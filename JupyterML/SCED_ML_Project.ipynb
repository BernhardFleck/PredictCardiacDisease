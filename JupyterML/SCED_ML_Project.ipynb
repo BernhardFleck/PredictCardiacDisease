{
 "cells": [
  {
   "cell_type": "markdown",
   "id": "c0c92fa2",
   "metadata": {},
   "source": [
    "# READ DATASET & PRINT DATA TABLE"
   ]
  },
  {
   "cell_type": "code",
   "execution_count": null,
   "id": "247cc28a",
   "metadata": {
    "colab": {
     "base_uri": "https://localhost:8080/",
     "height": 363
    },
    "id": "bf1b237c",
    "outputId": "14053b78-4c6b-4d07-ceae-d265d321a875"
   },
   "outputs": [],
   "source": [
    "import pandas as pd\n",
    "import sklearn.datasets\n",
    "import numpy as np\n",
    "import matplotlib.pyplot as plt\n",
    "import seaborn as sns\n",
    "import warnings\n",
    "warnings.filterwarnings('ignore')\n",
    "\n",
    "dataFrame = pd.read_csv('heart_2020_cleaned.csv', sep=',')\n",
    "label = 'HeartDisease'\n",
    "feature_names = dataFrame.columns\n",
    "\n",
    "#dataFrame.head()\n",
    "dataFrame.tail()"
   ]
  },
  {
   "cell_type": "markdown",
   "id": "971f88cb",
   "metadata": {},
   "source": [
    "# DOWNSAMPLING \n",
    "for a balanced dataset, it has to be down/upcycled "
   ]
  },
  {
   "cell_type": "markdown",
   "id": "ec6fe11b",
   "metadata": {},
   "source": [
    "## Pie chart - Show the im/balance"
   ]
  },
  {
   "cell_type": "code",
   "execution_count": null,
   "id": "d8133671",
   "metadata": {},
   "outputs": [],
   "source": [
    "print(dataFrame[label].value_counts())\n",
    "dataFrame.groupby(label).size().plot(kind='pie',\n",
    "                                       y = label,\n",
    "                                       label = \"HeartDisease\",\n",
    "                                       autopct='%1.1f%%')"
   ]
  },
  {
   "cell_type": "markdown",
   "id": "7cfabe22",
   "metadata": {},
   "source": [
    "## Actual Downsampling"
   ]
  },
  {
   "cell_type": "code",
   "execution_count": null,
   "id": "91aed0e6",
   "metadata": {},
   "outputs": [],
   "source": [
    "from sklearn.utils import resample\n",
    "\n",
    "noHeartDiseases = dataFrame[dataFrame[label] == \"No\"]\n",
    "withHeartDiseases  = dataFrame[dataFrame[label] == \"Yes\"]\n",
    "\n",
    "noHeartDiseaseDownsample = resample(noHeartDiseases,\n",
    "             replace=True,\n",
    "             n_samples=len(withHeartDiseases),\n",
    "             random_state=42) \n",
    "    \n",
    "dataFrame = pd.concat([noHeartDiseaseDownsample, withHeartDiseases])"
   ]
  },
  {
   "cell_type": "markdown",
   "id": "7c009487",
   "metadata": {},
   "source": [
    "## Pie chart - Check the balance again"
   ]
  },
  {
   "cell_type": "code",
   "execution_count": null,
   "id": "9da7832e",
   "metadata": {},
   "outputs": [],
   "source": [
    "dataFrame.groupby(label).size().plot(kind='pie',\n",
    "                                       y = label,\n",
    "                                       label = \"HeartDisease\",\n",
    "                                       autopct='%1.1f%%')\n",
    "dataFrame[label].value_counts()"
   ]
  },
  {
   "cell_type": "markdown",
   "id": "1702b6fe",
   "metadata": {},
   "source": [
    "# DATA PREPARATION\n",
    "## Transform Strings into Numbers"
   ]
  },
  {
   "cell_type": "code",
   "execution_count": null,
   "id": "b32dc34f",
   "metadata": {},
   "outputs": [],
   "source": [
    "dataFrame.head()"
   ]
  },
  {
   "cell_type": "code",
   "execution_count": null,
   "id": "be1ccd88",
   "metadata": {},
   "outputs": [],
   "source": [
    "obj_list = dataFrame.select_dtypes(include='object').columns\n",
    "\n",
    "from sklearn.preprocessing import LabelEncoder\n",
    "le = LabelEncoder()\n",
    "for obj in obj_list:\n",
    "        dataFrame[obj] = le.fit_transform(dataFrame[obj].astype(str))\n",
    "        \n",
    "dataFrame.head()"
   ]
  },
  {
   "cell_type": "markdown",
   "id": "77f05b89",
   "metadata": {},
   "source": [
    "## Check the Data Quality again\n",
    "### Empty Data Check"
   ]
  },
  {
   "cell_type": "code",
   "execution_count": null,
   "id": "e78c0e32",
   "metadata": {},
   "outputs": [],
   "source": [
    "pd.options.mode.use_inf_as_na = True\n",
    "dataFrame.isnull().sum()"
   ]
  },
  {
   "cell_type": "markdown",
   "id": "63f86119",
   "metadata": {},
   "source": [
    "## Zero Values"
   ]
  },
  {
   "cell_type": "code",
   "execution_count": null,
   "id": "fd5d63f9",
   "metadata": {},
   "outputs": [],
   "source": [
    "# Display how many 0 value each feature has\n",
    "for field in dataFrame.columns:\n",
    "    print('Number of 0-entries for \"{field_name}\" feature: {amount}'.format(\n",
    "        field_name=field,\n",
    "        amount=np.count_nonzero(dataFrame[field] == 0)\n",
    "    ))"
   ]
  },
  {
   "cell_type": "markdown",
   "id": "4cc51e09",
   "metadata": {},
   "source": [
    "## Correlation Matrix"
   ]
  },
  {
   "cell_type": "code",
   "execution_count": null,
   "id": "a81ec251",
   "metadata": {},
   "outputs": [],
   "source": [
    "featureNames = dataFrame.columns\n",
    "xd = dataFrame[featureNames]\n",
    "yd = dataFrame[label]\n",
    "\n",
    "sns.heatmap(\n",
    "    data=xd.corr(),\n",
    "    annot=True,\n",
    "    fmt='.2f',\n",
    "    cmap='RdYlGn'\n",
    ")\n",
    "\n",
    "fig = plt.gcf()\n",
    "fig.set_size_inches(15, 15)\n",
    "\n",
    "plt.show()"
   ]
  },
  {
   "cell_type": "markdown",
   "id": "f0869bcf",
   "metadata": {},
   "source": [
    "# ALGORITHMS\n",
    "\n",
    "## Splitting into Test & Training Data"
   ]
  },
  {
   "cell_type": "code",
   "execution_count": null,
   "id": "d18ea11c",
   "metadata": {},
   "outputs": [],
   "source": [
    "from sklearn.model_selection import train_test_split\n",
    "\n",
    "X = dataFrame.drop(label, axis=1).values #Feature Values\n",
    "y = dataFrame[label].values #heartDiseaseValues\n",
    "\n",
    "np.random.seed(41)\n",
    "X_train, X_test, y_train, y_test = train_test_split(X, y, test_size=0.2)"
   ]
  },
  {
   "cell_type": "code",
   "execution_count": null,
   "id": "d129a624",
   "metadata": {},
   "outputs": [],
   "source": [
    "print(X_train.shape)\n",
    "print(y_train.shape)\n",
    "print(X_test.shape)\n",
    "print(y_test.shape)"
   ]
  },
  {
   "cell_type": "markdown",
   "id": "8c6ad7f8",
   "metadata": {},
   "source": [
    "## KNN ~71%"
   ]
  },
  {
   "cell_type": "code",
   "execution_count": null,
   "id": "11afa749",
   "metadata": {},
   "outputs": [],
   "source": [
    "from sklearn.neighbors import KNeighborsClassifier\n",
    "from sklearn.metrics import accuracy_score\n",
    "from matplotlib import pyplot\n",
    "\n",
    "train_scores, test_scores = list(), list()\n",
    "iterations = [i for i in range(1, 10)]\n",
    "\n",
    "for i in iterations:\n",
    "    knn = KNeighborsClassifier(n_neighbors=i)\n",
    "    knn.fit(X_train, y_train)\n",
    "    #knn.score(X_test, y_test)\n",
    "    \n",
    "    trainPrediction = knn.predict(X_train)\n",
    "    trainAccuracy = accuracy_score(y_train, trainPrediction)\n",
    "    train_scores.append(trainAccuracy)\n",
    "    \n",
    "    testPrediction = knn.predict(X_test)\n",
    "    testAccuracy = accuracy_score(y_test, testPrediction)\n",
    "    test_scores.append(testAccuracy)\n",
    "    print('>%d, train: %.3f, test: %.3f' % (i, trainAccuracy, testAccuracy))\n",
    "    \n",
    "pyplot.plot(iterations, train_scores, '-o', label='Train')\n",
    "pyplot.plot(iterations, test_scores, '-o', label='Test')\n",
    "pyplot.legend()\n",
    "pyplot.show()"
   ]
  },
  {
   "cell_type": "markdown",
   "id": "c100491d",
   "metadata": {},
   "source": [
    "## Check if Overfitted\n",
    "taking a look onto the difference between the accuracy score of the training and the test data\n",
    "Wide difference? -> Overfitted!"
   ]
  },
  {
   "cell_type": "code",
   "execution_count": null,
   "id": "4e413c1d",
   "metadata": {},
   "outputs": [],
   "source": [
    "from sklearn.metrics import accuracy_score\n",
    "trainPrediction = knn.predict(X_train)\n",
    "trainAccuracy = accuracy_score(trainPrediction, y_train)\n",
    "\n",
    "testPrediction = knn.predict(X_test)\n",
    "testAccuracy = accuracy_score(testPrediction, y_test)\n",
    "\n",
    "print(trainAccuracy)\n",
    "print(testAccuracy)"
   ]
  },
  {
   "cell_type": "markdown",
   "id": "d5743c57",
   "metadata": {},
   "source": [
    "## Logistic Regression ~75% Aber mit Fehlermeldung"
   ]
  },
  {
   "cell_type": "code",
   "execution_count": null,
   "id": "899d9d8d",
   "metadata": {},
   "outputs": [],
   "source": [
    "from sklearn.linear_model import LogisticRegression\n",
    "np.random.seed(41)\n",
    "lr = LogisticRegression().fit(X_train, y_train)\n",
    "lr.score(X_test, y_test)"
   ]
  },
  {
   "cell_type": "markdown",
   "id": "1cb62985",
   "metadata": {},
   "source": [
    "## Random Forest Classifier ~75%"
   ]
  },
  {
   "cell_type": "code",
   "execution_count": null,
   "id": "97e487e7",
   "metadata": {},
   "outputs": [],
   "source": [
    "from sklearn.ensemble import RandomForestClassifier\n",
    "np.random.seed(41)\n",
    "rf = RandomForestClassifier().fit(X_train, y_train)\n",
    "rf.score(X_test, y_test)"
   ]
  },
  {
   "cell_type": "markdown",
   "id": "a3795b3a",
   "metadata": {},
   "source": [
    "## Decision Tree Classifier ~70%"
   ]
  },
  {
   "cell_type": "code",
   "execution_count": null,
   "id": "adc51dc9",
   "metadata": {},
   "outputs": [],
   "source": [
    "from sklearn.tree import DecisionTreeClassifier\n",
    "\n",
    "train_scores, test_scores = list(), list()\n",
    "# define the tree depths to evaluate\n",
    "iterations = [i for i in range(1, 21)]\n",
    "# evaluate a decision tree for each depth\n",
    "for i in iterations:\n",
    "\t# configure the model\n",
    "\tmodel = DecisionTreeClassifier(max_depth=i)\n",
    "\t# fit model on the training dataset\n",
    "\tmodel.fit(X_train, y_train)\n",
    "\t# evaluate on the train dataset\n",
    "\ttrainPrediction = model.predict(X_train)\n",
    "\ttrainAccuracy = accuracy_score(y_train, trainPrediction)\n",
    "\ttrain_scores.append(trainAccuracy)\n",
    "\t# evaluate on the test dataset\n",
    "\ttestPrediction = model.predict(X_test)\n",
    "\ttestAccuracy = accuracy_score(y_test, testPrediction)\n",
    "\ttest_scores.append(testAccuracy)\n",
    "\t# summarize progress\n",
    "\tprint('>%d, train: %.3f, test: %.3f' % (i, trainAccuracy, testAccuracy))\n",
    "# plot of train and test scores vs tree depth\n",
    "pyplot.plot(iterations, train_scores, '-o', label='Train')\n",
    "pyplot.plot(iterations, test_scores, '-o', label='Test')\n",
    "pyplot.legend()\n",
    "pyplot.show()\n",
    "print(\"Score:\")\n",
    "print(model.score(X_test, y_test))"
   ]
  }
 ],
 "metadata": {
  "colab": {
   "collapsed_sections": [],
   "provenance": []
  },
  "kernelspec": {
   "display_name": "Python 3 (ipykernel)",
   "language": "python",
   "name": "python3"
  },
  "language_info": {
   "codemirror_mode": {
    "name": "ipython",
    "version": 3
   },
   "file_extension": ".py",
   "mimetype": "text/x-python",
   "name": "python",
   "nbconvert_exporter": "python",
   "pygments_lexer": "ipython3",
   "version": "3.9.13"
  }
 },
 "nbformat": 4,
 "nbformat_minor": 5
}
