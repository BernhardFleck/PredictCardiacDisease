{
 "cells": [
  {
   "cell_type": "markdown",
   "id": "c0c92fa2",
   "metadata": {},
   "source": [
    "# READ DATASET & PRINT DATA TABLE"
   ]
  },
  {
   "cell_type": "code",
   "execution_count": 29,
   "id": "247cc28a",
   "metadata": {
    "colab": {
     "base_uri": "https://localhost:8080/",
     "height": 363
    },
    "id": "bf1b237c",
    "outputId": "14053b78-4c6b-4d07-ceae-d265d321a875"
   },
   "outputs": [
    {
     "data": {
      "text/html": [
       "<div>\n",
       "<style scoped>\n",
       "    .dataframe tbody tr th:only-of-type {\n",
       "        vertical-align: middle;\n",
       "    }\n",
       "\n",
       "    .dataframe tbody tr th {\n",
       "        vertical-align: top;\n",
       "    }\n",
       "\n",
       "    .dataframe thead th {\n",
       "        text-align: right;\n",
       "    }\n",
       "</style>\n",
       "<table border=\"1\" class=\"dataframe\">\n",
       "  <thead>\n",
       "    <tr style=\"text-align: right;\">\n",
       "      <th></th>\n",
       "      <th>HeartDisease</th>\n",
       "      <th>BMI</th>\n",
       "      <th>Smoking</th>\n",
       "      <th>AlcoholDrinking</th>\n",
       "      <th>Stroke</th>\n",
       "      <th>PhysicalHealth</th>\n",
       "      <th>MentalHealth</th>\n",
       "      <th>DiffWalking</th>\n",
       "      <th>Sex</th>\n",
       "      <th>AgeCategory</th>\n",
       "      <th>Race</th>\n",
       "      <th>Diabetic</th>\n",
       "      <th>PhysicalActivity</th>\n",
       "      <th>GenHealth</th>\n",
       "      <th>SleepTime</th>\n",
       "      <th>Asthma</th>\n",
       "      <th>KidneyDisease</th>\n",
       "      <th>SkinCancer</th>\n",
       "    </tr>\n",
       "  </thead>\n",
       "  <tbody>\n",
       "    <tr>\n",
       "      <th>319790</th>\n",
       "      <td>Yes</td>\n",
       "      <td>27.41</td>\n",
       "      <td>Yes</td>\n",
       "      <td>No</td>\n",
       "      <td>No</td>\n",
       "      <td>7.0</td>\n",
       "      <td>0.0</td>\n",
       "      <td>Yes</td>\n",
       "      <td>Male</td>\n",
       "      <td>60-64</td>\n",
       "      <td>Hispanic</td>\n",
       "      <td>Yes</td>\n",
       "      <td>No</td>\n",
       "      <td>Fair</td>\n",
       "      <td>6.0</td>\n",
       "      <td>Yes</td>\n",
       "      <td>No</td>\n",
       "      <td>No</td>\n",
       "    </tr>\n",
       "    <tr>\n",
       "      <th>319791</th>\n",
       "      <td>No</td>\n",
       "      <td>29.84</td>\n",
       "      <td>Yes</td>\n",
       "      <td>No</td>\n",
       "      <td>No</td>\n",
       "      <td>0.0</td>\n",
       "      <td>0.0</td>\n",
       "      <td>No</td>\n",
       "      <td>Male</td>\n",
       "      <td>35-39</td>\n",
       "      <td>Hispanic</td>\n",
       "      <td>No</td>\n",
       "      <td>Yes</td>\n",
       "      <td>Very good</td>\n",
       "      <td>5.0</td>\n",
       "      <td>Yes</td>\n",
       "      <td>No</td>\n",
       "      <td>No</td>\n",
       "    </tr>\n",
       "    <tr>\n",
       "      <th>319792</th>\n",
       "      <td>No</td>\n",
       "      <td>24.24</td>\n",
       "      <td>No</td>\n",
       "      <td>No</td>\n",
       "      <td>No</td>\n",
       "      <td>0.0</td>\n",
       "      <td>0.0</td>\n",
       "      <td>No</td>\n",
       "      <td>Female</td>\n",
       "      <td>45-49</td>\n",
       "      <td>Hispanic</td>\n",
       "      <td>No</td>\n",
       "      <td>Yes</td>\n",
       "      <td>Good</td>\n",
       "      <td>6.0</td>\n",
       "      <td>No</td>\n",
       "      <td>No</td>\n",
       "      <td>No</td>\n",
       "    </tr>\n",
       "    <tr>\n",
       "      <th>319793</th>\n",
       "      <td>No</td>\n",
       "      <td>32.81</td>\n",
       "      <td>No</td>\n",
       "      <td>No</td>\n",
       "      <td>No</td>\n",
       "      <td>0.0</td>\n",
       "      <td>0.0</td>\n",
       "      <td>No</td>\n",
       "      <td>Female</td>\n",
       "      <td>25-29</td>\n",
       "      <td>Hispanic</td>\n",
       "      <td>No</td>\n",
       "      <td>No</td>\n",
       "      <td>Good</td>\n",
       "      <td>12.0</td>\n",
       "      <td>No</td>\n",
       "      <td>No</td>\n",
       "      <td>No</td>\n",
       "    </tr>\n",
       "    <tr>\n",
       "      <th>319794</th>\n",
       "      <td>No</td>\n",
       "      <td>46.56</td>\n",
       "      <td>No</td>\n",
       "      <td>No</td>\n",
       "      <td>No</td>\n",
       "      <td>0.0</td>\n",
       "      <td>0.0</td>\n",
       "      <td>No</td>\n",
       "      <td>Female</td>\n",
       "      <td>80 or older</td>\n",
       "      <td>Hispanic</td>\n",
       "      <td>No</td>\n",
       "      <td>Yes</td>\n",
       "      <td>Good</td>\n",
       "      <td>8.0</td>\n",
       "      <td>No</td>\n",
       "      <td>No</td>\n",
       "      <td>No</td>\n",
       "    </tr>\n",
       "  </tbody>\n",
       "</table>\n",
       "</div>"
      ],
      "text/plain": [
       "       HeartDisease    BMI Smoking AlcoholDrinking Stroke  PhysicalHealth  \\\n",
       "319790          Yes  27.41     Yes              No     No             7.0   \n",
       "319791           No  29.84     Yes              No     No             0.0   \n",
       "319792           No  24.24      No              No     No             0.0   \n",
       "319793           No  32.81      No              No     No             0.0   \n",
       "319794           No  46.56      No              No     No             0.0   \n",
       "\n",
       "        MentalHealth DiffWalking     Sex  AgeCategory      Race Diabetic  \\\n",
       "319790           0.0         Yes    Male        60-64  Hispanic      Yes   \n",
       "319791           0.0          No    Male        35-39  Hispanic       No   \n",
       "319792           0.0          No  Female        45-49  Hispanic       No   \n",
       "319793           0.0          No  Female        25-29  Hispanic       No   \n",
       "319794           0.0          No  Female  80 or older  Hispanic       No   \n",
       "\n",
       "       PhysicalActivity  GenHealth  SleepTime Asthma KidneyDisease SkinCancer  \n",
       "319790               No       Fair        6.0    Yes            No         No  \n",
       "319791              Yes  Very good        5.0    Yes            No         No  \n",
       "319792              Yes       Good        6.0     No            No         No  \n",
       "319793               No       Good       12.0     No            No         No  \n",
       "319794              Yes       Good        8.0     No            No         No  "
      ]
     },
     "execution_count": 29,
     "metadata": {},
     "output_type": "execute_result"
    }
   ],
   "source": [
    "import pandas as pd\n",
    "import sklearn.datasets\n",
    "import numpy as np\n",
    "import matplotlib.pyplot as plt\n",
    "import seaborn as sns\n",
    "import warnings\n",
    "warnings.filterwarnings('ignore')\n",
    "\n",
    "dataFrame = pd.read_csv('heart_2020_cleaned.csv', sep=',')\n",
    "label = 'HeartDisease'\n",
    "feature_names = dataFrame.columns\n",
    "\n",
    "#dataFrame.head()\n",
    "dataFrame.tail()"
   ]
  },
  {
   "cell_type": "markdown",
   "id": "c61176b9",
   "metadata": {},
   "source": [
    "# DIMENSIONS (#rows, #cols)"
   ]
  },
  {
   "cell_type": "code",
   "execution_count": null,
   "id": "3377bb78",
   "metadata": {},
   "outputs": [],
   "source": [
    "shape = dataFrame.shape\n",
    "print(f'Tupel: #{shape[0]} Features: #{shape[1]}')"
   ]
  },
  {
   "cell_type": "markdown",
   "id": "48c9ddc0",
   "metadata": {},
   "source": [
    "# DATA DISTRIBUTION (based on label)\n",
    "## Histogram"
   ]
  },
  {
   "cell_type": "code",
   "execution_count": null,
   "id": "d7719bce",
   "metadata": {
    "id": "d7719bce",
    "outputId": "a32a1269-5026-439f-b6d9-1bc5bc88a00a",
    "scrolled": false
   },
   "outputs": [],
   "source": [
    "%matplotlib inline\n",
    "dataFrame[label].hist(bins=10)"
   ]
  },
  {
   "cell_type": "markdown",
   "id": "094e019b",
   "metadata": {},
   "source": [
    "## In Numbers"
   ]
  },
  {
   "cell_type": "code",
   "execution_count": null,
   "id": "bc3bf28e",
   "metadata": {
    "scrolled": false
   },
   "outputs": [],
   "source": [
    "dataFrame[label].value_counts()"
   ]
  },
  {
   "cell_type": "markdown",
   "id": "1796661c",
   "metadata": {},
   "source": [
    "## Pairplot\n",
    "**Detailed distribution of the features in the dataset. TIME CONSUMING**"
   ]
  },
  {
   "cell_type": "code",
   "execution_count": null,
   "id": "e73dad87",
   "metadata": {},
   "outputs": [],
   "source": [
    "sns.pairplot(data=dataFrame, hue=label)\n",
    "plt.show()"
   ]
  },
  {
   "cell_type": "markdown",
   "id": "41e9df16",
   "metadata": {},
   "source": [
    "# DATA QUALITY CHECK\n",
    "## Empty Data (None, numpy.NaN, '', numpy.inf)\n",
    "\n",
    "**checking if there is corrupt data in a column!** \n",
    "\n",
    "> example:   \n",
    "> feature1 0 => means no nullable data found for feature1 </br>\n",
    "> feature2 5 => means 5 cells were null! -> get rid of them\n",
    "            \n",
    "isnull(): _\"Return a boolean same-sized object indicating if the values are NA. NA values, such as None or numpy.NaN, gets mapped to True values. Everything else gets mapped to False values. Characters such as empty strings '' or numpy.inf are not considered NA values (unless you set pandas.options.mode.use_inf_as_na = True).\" ~ Documentation_\n"
   ]
  },
  {
   "cell_type": "code",
   "execution_count": null,
   "id": "4a979bd3",
   "metadata": {
    "scrolled": true
   },
   "outputs": [],
   "source": [
    "pd.options.mode.use_inf_as_na = True\n",
    "dataFrame.isnull().sum()"
   ]
  },
  {
   "cell_type": "markdown",
   "id": "30c38112",
   "metadata": {},
   "source": [
    "## Zero Values\n",
    "\n",
    "**doesn't always need to be a bad sign!**\n",
    "\n",
    "GOOD: GivenBirths:0 // is OK, a woman doesn't need to give birth\n",
    "\n",
    "BAD: Age:0 // is not OK when recording patients who died from dementia"
   ]
  },
  {
   "cell_type": "code",
   "execution_count": null,
   "id": "cffb739b",
   "metadata": {},
   "outputs": [],
   "source": [
    "# Display how many 0 value each feature has\n",
    "for field in dataFrame.columns:\n",
    "    print('Number of 0-entries for \"{field_name}\" feature: {amount}'.format(\n",
    "        field_name=field,\n",
    "        amount=np.count_nonzero(dataFrame[field] == 0)\n",
    "    ))"
   ]
  },
  {
   "cell_type": "markdown",
   "id": "ef3c9a2e",
   "metadata": {},
   "source": [
    "# Correlation Matrix\n",
    "\n",
    "A matrix of correlations provides useful insight into relationships between pairs of variables."
   ]
  },
  {
   "cell_type": "code",
   "execution_count": null,
   "id": "18530dd6",
   "metadata": {},
   "outputs": [],
   "source": [
    "feature_names = dataFrame.columns\n",
    "X = dataFrame[feature_names]\n",
    "y = dataFrame[label]\n",
    "\n",
    "sns.heatmap(\n",
    "    data=X.corr(),\n",
    "    annot=True,\n",
    "    fmt='.2f',\n",
    "    cmap='RdYlGn'\n",
    ")\n",
    "\n",
    "fig = plt.gcf()\n",
    "fig.set_size_inches(10, 8)\n",
    "\n",
    "plt.show()"
   ]
  },
  {
   "cell_type": "markdown",
   "id": "971f88cb",
   "metadata": {},
   "source": [
    "# DOWNSAMPLING \n",
    "for a balanced dataset, it has to be down/upcycled "
   ]
  },
  {
   "cell_type": "markdown",
   "id": "ec6fe11b",
   "metadata": {},
   "source": [
    "## Pie chart - Show the im/balance"
   ]
  },
  {
   "cell_type": "code",
   "execution_count": null,
   "id": "d8133671",
   "metadata": {},
   "outputs": [],
   "source": [
    "print(dataFrame[label].value_counts())\n",
    "dataFrame.groupby(label).size().plot(kind='pie',\n",
    "                                       y = label,\n",
    "                                       label = \"HeartDisease\",\n",
    "                                       autopct='%1.1f%%')"
   ]
  },
  {
   "cell_type": "markdown",
   "id": "7cfabe22",
   "metadata": {},
   "source": [
    "## Actual Downsampling"
   ]
  },
  {
   "cell_type": "code",
   "execution_count": 30,
   "id": "91aed0e6",
   "metadata": {},
   "outputs": [],
   "source": [
    "from sklearn.utils import resample\n",
    "\n",
    "noHeartDiseases = dataFrame[dataFrame[label] == \"No\"]\n",
    "withHeartDiseases  = dataFrame[dataFrame[label] == \"Yes\"]\n",
    "\n",
    "noHeartDiseaseDownsample = resample(noHeartDiseases,\n",
    "             replace=True,\n",
    "             n_samples=len(withHeartDiseases),\n",
    "             random_state=42) \n",
    "    \n",
    "dataFrame = pd.concat([noHeartDiseaseDownsample, withHeartDiseases])"
   ]
  },
  {
   "cell_type": "markdown",
   "id": "7c009487",
   "metadata": {},
   "source": [
    "## Pie chart - Check the balance again"
   ]
  },
  {
   "cell_type": "code",
   "execution_count": null,
   "id": "9da7832e",
   "metadata": {},
   "outputs": [],
   "source": [
    "dataFrame.groupby(label).size().plot(kind='pie',\n",
    "                                       y = label,\n",
    "                                       label = \"HeartDisease\",\n",
    "                                       autopct='%1.1f%%')\n",
    "dataFrame[label].value_counts()"
   ]
  },
  {
   "cell_type": "markdown",
   "id": "e5e5db2d",
   "metadata": {},
   "source": [
    "## Check the Data Quality again\n",
    "### Empty Data Check"
   ]
  },
  {
   "cell_type": "code",
   "execution_count": null,
   "id": "bc276ee0",
   "metadata": {},
   "outputs": [],
   "source": [
    "pd.options.mode.use_inf_as_na = True\n",
    "dataFrame.isnull().sum()"
   ]
  },
  {
   "cell_type": "markdown",
   "id": "07d51a98",
   "metadata": {},
   "source": [
    "## Zero Values"
   ]
  },
  {
   "cell_type": "code",
   "execution_count": null,
   "id": "2c748bdb",
   "metadata": {},
   "outputs": [],
   "source": [
    "# Display how many 0 value each feature has\n",
    "for field in dataFrame.columns:\n",
    "    print('Number of 0-entries for \"{field_name}\" feature: {amount}'.format(\n",
    "        field_name=field,\n",
    "        amount=np.count_nonzero(dataFrame[field] == 0)\n",
    "    ))"
   ]
  },
  {
   "cell_type": "markdown",
   "id": "1702b6fe",
   "metadata": {},
   "source": [
    "# DATA PREPARATION\n",
    "## Transform Strings into Numbers"
   ]
  },
  {
   "cell_type": "code",
   "execution_count": null,
   "id": "b32dc34f",
   "metadata": {},
   "outputs": [],
   "source": [
    "dataFrame.head()"
   ]
  },
  {
   "cell_type": "code",
   "execution_count": 31,
   "id": "be1ccd88",
   "metadata": {},
   "outputs": [
    {
     "data": {
      "text/html": [
       "<div>\n",
       "<style scoped>\n",
       "    .dataframe tbody tr th:only-of-type {\n",
       "        vertical-align: middle;\n",
       "    }\n",
       "\n",
       "    .dataframe tbody tr th {\n",
       "        vertical-align: top;\n",
       "    }\n",
       "\n",
       "    .dataframe thead th {\n",
       "        text-align: right;\n",
       "    }\n",
       "</style>\n",
       "<table border=\"1\" class=\"dataframe\">\n",
       "  <thead>\n",
       "    <tr style=\"text-align: right;\">\n",
       "      <th></th>\n",
       "      <th>HeartDisease</th>\n",
       "      <th>BMI</th>\n",
       "      <th>Smoking</th>\n",
       "      <th>AlcoholDrinking</th>\n",
       "      <th>Stroke</th>\n",
       "      <th>PhysicalHealth</th>\n",
       "      <th>MentalHealth</th>\n",
       "      <th>DiffWalking</th>\n",
       "      <th>Sex</th>\n",
       "      <th>AgeCategory</th>\n",
       "      <th>Race</th>\n",
       "      <th>Diabetic</th>\n",
       "      <th>PhysicalActivity</th>\n",
       "      <th>GenHealth</th>\n",
       "      <th>SleepTime</th>\n",
       "      <th>Asthma</th>\n",
       "      <th>KidneyDisease</th>\n",
       "      <th>SkinCancer</th>\n",
       "    </tr>\n",
       "  </thead>\n",
       "  <tbody>\n",
       "    <tr>\n",
       "      <th>133490</th>\n",
       "      <td>0</td>\n",
       "      <td>26.54</td>\n",
       "      <td>1</td>\n",
       "      <td>1</td>\n",
       "      <td>0</td>\n",
       "      <td>0.0</td>\n",
       "      <td>0.0</td>\n",
       "      <td>0</td>\n",
       "      <td>1</td>\n",
       "      <td>6</td>\n",
       "      <td>5</td>\n",
       "      <td>0</td>\n",
       "      <td>1</td>\n",
       "      <td>0</td>\n",
       "      <td>7.0</td>\n",
       "      <td>0</td>\n",
       "      <td>0</td>\n",
       "      <td>0</td>\n",
       "    </tr>\n",
       "    <tr>\n",
       "      <th>160740</th>\n",
       "      <td>0</td>\n",
       "      <td>18.56</td>\n",
       "      <td>0</td>\n",
       "      <td>0</td>\n",
       "      <td>0</td>\n",
       "      <td>0.0</td>\n",
       "      <td>0.0</td>\n",
       "      <td>0</td>\n",
       "      <td>0</td>\n",
       "      <td>4</td>\n",
       "      <td>2</td>\n",
       "      <td>0</td>\n",
       "      <td>1</td>\n",
       "      <td>2</td>\n",
       "      <td>8.0</td>\n",
       "      <td>0</td>\n",
       "      <td>0</td>\n",
       "      <td>0</td>\n",
       "    </tr>\n",
       "    <tr>\n",
       "      <th>144281</th>\n",
       "      <td>0</td>\n",
       "      <td>26.37</td>\n",
       "      <td>0</td>\n",
       "      <td>0</td>\n",
       "      <td>0</td>\n",
       "      <td>21.0</td>\n",
       "      <td>0.0</td>\n",
       "      <td>0</td>\n",
       "      <td>0</td>\n",
       "      <td>4</td>\n",
       "      <td>3</td>\n",
       "      <td>0</td>\n",
       "      <td>1</td>\n",
       "      <td>1</td>\n",
       "      <td>6.0</td>\n",
       "      <td>0</td>\n",
       "      <td>0</td>\n",
       "      <td>0</td>\n",
       "    </tr>\n",
       "    <tr>\n",
       "      <th>283354</th>\n",
       "      <td>0</td>\n",
       "      <td>31.32</td>\n",
       "      <td>1</td>\n",
       "      <td>0</td>\n",
       "      <td>0</td>\n",
       "      <td>2.0</td>\n",
       "      <td>2.0</td>\n",
       "      <td>0</td>\n",
       "      <td>0</td>\n",
       "      <td>9</td>\n",
       "      <td>2</td>\n",
       "      <td>0</td>\n",
       "      <td>1</td>\n",
       "      <td>1</td>\n",
       "      <td>6.0</td>\n",
       "      <td>0</td>\n",
       "      <td>0</td>\n",
       "      <td>0</td>\n",
       "    </tr>\n",
       "    <tr>\n",
       "      <th>131213</th>\n",
       "      <td>0</td>\n",
       "      <td>36.62</td>\n",
       "      <td>1</td>\n",
       "      <td>0</td>\n",
       "      <td>0</td>\n",
       "      <td>0.0</td>\n",
       "      <td>0.0</td>\n",
       "      <td>0</td>\n",
       "      <td>1</td>\n",
       "      <td>10</td>\n",
       "      <td>5</td>\n",
       "      <td>0</td>\n",
       "      <td>1</td>\n",
       "      <td>2</td>\n",
       "      <td>6.0</td>\n",
       "      <td>0</td>\n",
       "      <td>0</td>\n",
       "      <td>0</td>\n",
       "    </tr>\n",
       "  </tbody>\n",
       "</table>\n",
       "</div>"
      ],
      "text/plain": [
       "        HeartDisease    BMI  Smoking  AlcoholDrinking  Stroke  PhysicalHealth  \\\n",
       "133490             0  26.54        1                1       0             0.0   \n",
       "160740             0  18.56        0                0       0             0.0   \n",
       "144281             0  26.37        0                0       0            21.0   \n",
       "283354             0  31.32        1                0       0             2.0   \n",
       "131213             0  36.62        1                0       0             0.0   \n",
       "\n",
       "        MentalHealth  DiffWalking  Sex  AgeCategory  Race  Diabetic  \\\n",
       "133490           0.0            0    1            6     5         0   \n",
       "160740           0.0            0    0            4     2         0   \n",
       "144281           0.0            0    0            4     3         0   \n",
       "283354           2.0            0    0            9     2         0   \n",
       "131213           0.0            0    1           10     5         0   \n",
       "\n",
       "        PhysicalActivity  GenHealth  SleepTime  Asthma  KidneyDisease  \\\n",
       "133490                 1          0        7.0       0              0   \n",
       "160740                 1          2        8.0       0              0   \n",
       "144281                 1          1        6.0       0              0   \n",
       "283354                 1          1        6.0       0              0   \n",
       "131213                 1          2        6.0       0              0   \n",
       "\n",
       "        SkinCancer  \n",
       "133490           0  \n",
       "160740           0  \n",
       "144281           0  \n",
       "283354           0  \n",
       "131213           0  "
      ]
     },
     "execution_count": 31,
     "metadata": {},
     "output_type": "execute_result"
    }
   ],
   "source": [
    "obj_list = dataFrame.select_dtypes(include='object').columns\n",
    "\n",
    "from sklearn.preprocessing import LabelEncoder\n",
    "le = LabelEncoder()\n",
    "for obj in obj_list:\n",
    "        dataFrame[obj] = le.fit_transform(dataFrame[obj].astype(str))\n",
    "        \n",
    "dataFrame.head()"
   ]
  },
  {
   "cell_type": "code",
   "execution_count": null,
   "id": "a81ec251",
   "metadata": {},
   "outputs": [],
   "source": [
    "featureNames = dataFrame.columns\n",
    "xd = dataFrame[featureNames]\n",
    "yd = dataFrame[label]\n",
    "\n",
    "sns.heatmap(\n",
    "    data=xd.corr(),\n",
    "    annot=True,\n",
    "    fmt='.2f',\n",
    "    cmap='RdYlGn'\n",
    ")\n",
    "\n",
    "fig = plt.gcf()\n",
    "fig.set_size_inches(15, 15)\n",
    "\n",
    "plt.show()"
   ]
  },
  {
   "cell_type": "markdown",
   "id": "f0869bcf",
   "metadata": {},
   "source": [
    "# ALGORITHMS\n",
    "\n",
    "## Splitting into Test & Training Data"
   ]
  },
  {
   "cell_type": "code",
   "execution_count": null,
   "id": "d18ea11c",
   "metadata": {},
   "outputs": [],
   "source": [
    "from sklearn.model_selection import train_test_split\n",
    "\n",
    "X = dataFrame.drop(label, axis=1).values #Feature Values\n",
    "y = dataFrame[label].values #heartDiseaseValues\n",
    "\n",
    "np.random.seed(41)\n",
    "X_train, X_test, y_train, y_test = train_test_split(X, y, test_size=0.2)"
   ]
  },
  {
   "cell_type": "code",
   "execution_count": null,
   "id": "d129a624",
   "metadata": {},
   "outputs": [],
   "source": [
    "print(X_train.shape)\n",
    "print(y_train.shape)\n",
    "print(X_test.shape)\n",
    "print(y_test.shape)"
   ]
  },
  {
   "cell_type": "markdown",
   "id": "8c6ad7f8",
   "metadata": {},
   "source": [
    "## KNN ~71%"
   ]
  },
  {
   "cell_type": "code",
   "execution_count": 39,
   "id": "11afa749",
   "metadata": {},
   "outputs": [
    {
     "name": "stdout",
     "output_type": "stream",
     "text": [
      ">1, train: 0.997, test: 0.669\n",
      ">2, train: 0.829, test: 0.647\n",
      ">3, train: 0.837, test: 0.696\n",
      ">4, train: 0.796, test: 0.682\n",
      ">5, train: 0.801, test: 0.712\n",
      ">6, train: 0.784, test: 0.702\n",
      ">7, train: 0.786, test: 0.722\n",
      ">8, train: 0.775, test: 0.714\n",
      ">9, train: 0.778, test: 0.730\n"
     ]
    },
    {
     "data": {
      "image/png": "[encoded data removed]",
      "text/plain": [
       "<Figure size 640x480 with 1 Axes>"
      ]
     },
     "metadata": {},
     "output_type": "display_data"
    }
   ],
   "source": [
    "from sklearn.neighbors import KNeighborsClassifier\n",
    "from sklearn.metrics import accuracy_score\n",
    "from matplotlib import pyplot\n",
    "\n",
    "train_scores, test_scores = list(), list()\n",
    "iterations = [i for i in range(1, 10)]\n",
    "\n",
    "for i in iterations:\n",
    "    knn = KNeighborsClassifier(n_neighbors=i)\n",
    "    knn.fit(X_train, y_train)\n",
    "    #knn.score(X_test, y_test)\n",
    "    \n",
    "    trainPrediction = knn.predict(X_train)\n",
    "    trainAccuracy = accuracy_score(y_train, trainPrediction)\n",
    "    train_scores.append(trainAccuracy)\n",
    "    \n",
    "    testPrediction = knn.predict(X_test)\n",
    "    testAccuracy = accuracy_score(y_test, testPrediction)\n",
    "    test_scores.append(testAccuracy)\n",
    "    print('>%d, train: %.3f, test: %.3f' % (i, trainAccuracy, testAccuracy))\n",
    "    \n",
    "pyplot.plot(iterations, train_scores, '-o', label='Train')\n",
    "pyplot.plot(iterations, test_scores, '-o', label='Test')\n",
    "pyplot.legend()\n",
    "pyplot.show()"
   ]
  },
  {
   "cell_type": "markdown",
   "id": "c100491d",
   "metadata": {},
   "source": [
    "## Check if Overfitted\n",
    "taking a look onto the difference between the accuracy score of the training and the test data\n",
    "Wide difference? -> Overfitted!"
   ]
  },
  {
   "cell_type": "code",
   "execution_count": 35,
   "id": "4e413c1d",
   "metadata": {
    "collapsed": true
   },
   "outputs": [
    {
     "name": "stderr",
     "output_type": "stream",
     "text": [
      "C:\\Program Files\\Anaconda\\lib\\site-packages\\sklearn\\neighbors\\_classification.py:228: FutureWarning: Unlike other reduction functions (e.g. `skew`, `kurtosis`), the default behavior of `mode` typically preserves the axis it acts along. In SciPy 1.11.0, this behavior will change: the default value of `keepdims` will become False, the `axis` over which the statistic is taken will be eliminated, and the value None will no longer be accepted. Set `keepdims` to True or False to avoid this warning.\n",
      "  mode, _ = stats.mode(_y[neigh_ind, k], axis=1)\n",
      "C:\\Program Files\\Anaconda\\lib\\site-packages\\sklearn\\neighbors\\_classification.py:228: FutureWarning: Unlike other reduction functions (e.g. `skew`, `kurtosis`), the default behavior of `mode` typically preserves the axis it acts along. In SciPy 1.11.0, this behavior will change: the default value of `keepdims` will become False, the `axis` over which the statistic is taken will be eliminated, and the value None will no longer be accepted. Set `keepdims` to True or False to avoid this warning.\n",
      "  mode, _ = stats.mode(_y[neigh_ind, k], axis=1)\n"
     ]
    },
    {
     "name": "stdout",
     "output_type": "stream",
     "text": [
      "0.8007352269613663\n",
      "0.7124200913242009\n"
     ]
    }
   ],
   "source": [
    "from sklearn.metrics import accuracy_score\n",
    "trainPrediction = knn.predict(X_train)\n",
    "trainAccuracy = accuracy_score(trainPrediction, y_train)\n",
    "\n",
    "testPrediction = knn.predict(X_test)\n",
    "testAccuracy = accuracy_score(testPrediction, y_test)\n",
    "\n",
    "print(trainAccuracy)\n",
    "print(testAccuracy)"
   ]
  },
  {
   "cell_type": "markdown",
   "id": "d5743c57",
   "metadata": {},
   "source": [
    "## Logistic Regression ~75% Aber mit Fehlermeldung"
   ]
  },
  {
   "cell_type": "code",
   "execution_count": 33,
   "id": "899d9d8d",
   "metadata": {},
   "outputs": [
    {
     "name": "stderr",
     "output_type": "stream",
     "text": [
      "C:\\Program Files\\Anaconda\\lib\\site-packages\\sklearn\\linear_model\\_logistic.py:814: ConvergenceWarning: lbfgs failed to converge (status=1):\n",
      "STOP: TOTAL NO. of ITERATIONS REACHED LIMIT.\n",
      "\n",
      "Increase the number of iterations (max_iter) or scale the data as shown in:\n",
      "    https://scikit-learn.org/stable/modules/preprocessing.html\n",
      "Please also refer to the documentation for alternative solver options:\n",
      "    https://scikit-learn.org/stable/modules/linear_model.html#logistic-regression\n",
      "  n_iter_i = _check_optimize_result(\n"
     ]
    },
    {
     "data": {
      "text/plain": [
       "0.7518721461187214"
      ]
     },
     "execution_count": 33,
     "metadata": {},
     "output_type": "execute_result"
    }
   ],
   "source": [
    "from sklearn.linear_model import LogisticRegression\n",
    "np.random.seed(41)\n",
    "lr = LogisticRegression().fit(X_train, y_train)\n",
    "lr.score(X_test, y_test)"
   ]
  },
  {
   "cell_type": "markdown",
   "id": "1cb62985",
   "metadata": {},
   "source": [
    "## Random Forest Classifier ~75%"
   ]
  },
  {
   "cell_type": "code",
   "execution_count": 34,
   "id": "97e487e7",
   "metadata": {},
   "outputs": [
    {
     "data": {
      "text/plain": [
       "0.7522374429223744"
      ]
     },
     "execution_count": 34,
     "metadata": {},
     "output_type": "execute_result"
    }
   ],
   "source": [
    "from sklearn.ensemble import RandomForestClassifier\n",
    "np.random.seed(41)\n",
    "rf = RandomForestClassifier().fit(X_train, y_train)\n",
    "rf.score(X_test, y_test)"
   ]
  },
  {
   "cell_type": "markdown",
   "id": "a3795b3a",
   "metadata": {},
   "source": [
    "## Decision Tree Classifier ~70%"
   ]
  },
  {
   "cell_type": "code",
   "execution_count": 45,
   "id": "adc51dc9",
   "metadata": {},
   "outputs": [
    {
     "name": "stdout",
     "output_type": "stream",
     "text": [
      ">1, train: 0.679, test: 0.689\n",
      ">2, train: 0.711, test: 0.720\n",
      ">3, train: 0.720, test: 0.722\n",
      ">4, train: 0.742, test: 0.742\n",
      ">5, train: 0.745, test: 0.747\n",
      ">6, train: 0.751, test: 0.752\n",
      ">7, train: 0.754, test: 0.752\n",
      ">8, train: 0.763, test: 0.758\n",
      ">9, train: 0.768, test: 0.756\n",
      ">10, train: 0.777, test: 0.754\n",
      ">11, train: 0.785, test: 0.745\n",
      ">12, train: 0.796, test: 0.742\n",
      ">13, train: 0.809, test: 0.737\n",
      ">14, train: 0.824, test: 0.733\n",
      ">15, train: 0.840, test: 0.724\n",
      ">16, train: 0.857, test: 0.717\n",
      ">17, train: 0.875, test: 0.710\n",
      ">18, train: 0.891, test: 0.709\n",
      ">19, train: 0.907, test: 0.705\n",
      ">20, train: 0.921, test: 0.698\n"
     ]
    },
    {
     "data": {
      "image/png": "[encoded data removed]",
      "text/plain": [
       "<Figure size 640x480 with 1 Axes>"
      ]
     },
     "metadata": {},
     "output_type": "display_data"
    },
    {
     "name": "stdout",
     "output_type": "stream",
     "text": [
      "Score:\n",
      "0.6980821917808219\n"
     ]
    }
   ],
   "source": [
    "from sklearn.tree import DecisionTreeClassifier\n",
    "\n",
    "train_scores, test_scores = list(), list()\n",
    "# define the tree depths to evaluate\n",
    "iterations = [i for i in range(1, 21)]\n",
    "# evaluate a decision tree for each depth\n",
    "for i in iterations:\n",
    "\t# configure the model\n",
    "\tmodel = DecisionTreeClassifier(max_depth=i)\n",
    "\t# fit model on the training dataset\n",
    "\tmodel.fit(X_train, y_train)\n",
    "\t# evaluate on the train dataset\n",
    "\ttrainPrediction = model.predict(X_train)\n",
    "\ttrainAccuracy = accuracy_score(y_train, trainPrediction)\n",
    "\ttrain_scores.append(trainAccuracy)\n",
    "\t# evaluate on the test dataset\n",
    "\ttestPrediction = model.predict(X_test)\n",
    "\ttestAccuracy = accuracy_score(y_test, testPrediction)\n",
    "\ttest_scores.append(testAccuracy)\n",
    "\t# summarize progress\n",
    "\tprint('>%d, train: %.3f, test: %.3f' % (i, trainAccuracy, testAccuracy))\n",
    "# plot of train and test scores vs tree depth\n",
    "pyplot.plot(iterations, train_scores, '-o', label='Train')\n",
    "pyplot.plot(iterations, test_scores, '-o', label='Test')\n",
    "pyplot.legend()\n",
    "pyplot.show()\n",
    "print(\"Score:\")\n",
    "print(model.score(X_test, y_test))"
   ]
  }
 ],
 "metadata": {
  "colab": {
   "collapsed_sections": [],
   "provenance": []
  },
  "kernelspec": {
   "display_name": "Python 3 (ipykernel)",
   "language": "python",
   "name": "python3"
  },
  "language_info": {
   "codemirror_mode": {
    "name": "ipython",
    "version": 3
   },
   "file_extension": ".py",
   "mimetype": "text/x-python",
   "name": "python",
   "nbconvert_exporter": "python",
   "pygments_lexer": "ipython3",
   "version": "3.9.13"
  }
 },
 "nbformat": 4,
 "nbformat_minor": 5
}
