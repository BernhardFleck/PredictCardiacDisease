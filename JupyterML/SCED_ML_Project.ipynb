{
 "cells": [
  {
   "cell_type": "markdown",
   "id": "c0c92fa2",
   "metadata": {},
   "source": [
    "# <mark>READ DATASET & PRINT DATA TABLE</mark>"
   ]
  },
  {
   "cell_type": "code",
   "execution_count": null,
   "id": "247cc28a",
   "metadata": {
    "colab": {
     "base_uri": "https://localhost:8080/",
     "height": 363
    },
    "id": "bf1b237c",
    "outputId": "14053b78-4c6b-4d07-ceae-d265d321a875"
   },
   "outputs": [],
   "source": [
    "import pandas as pd\n",
    "import sklearn.datasets\n",
    "import numpy as np\n",
    "import matplotlib.pyplot as plt\n",
    "import seaborn as sns\n",
    "import warnings\n",
    "warnings.filterwarnings('ignore')\n",
    "\n",
    "dataFrame = pd.read_csv('heart_2020_cleaned.csv', sep=',')\n",
    "label = 'HeartDisease'\n",
    "featureNames = dataFrame.columns\n",
    "\n",
    "#dataFrame.head()\n",
    "dataFrame.tail()"
   ]
  },
  {
   "cell_type": "markdown",
   "id": "971f88cb",
   "metadata": {},
   "source": [
    "# DOWNSAMPLING \n",
    "for a balanced dataset, it has to be down/upcycled "
   ]
  },
  {
   "cell_type": "markdown",
   "id": "ec6fe11b",
   "metadata": {},
   "source": [
    "## Pie chart - Show the im/balance"
   ]
  },
  {
   "cell_type": "code",
   "execution_count": null,
   "id": "d8133671",
   "metadata": {},
   "outputs": [],
   "source": [
    "print(dataFrame[label].value_counts())\n",
    "dataFrame.groupby(label).size().plot(kind='pie',\n",
    "                                       y = label,\n",
    "                                       label = \"HeartDisease\",\n",
    "                                       autopct='%1.1f%%')"
   ]
  },
  {
   "cell_type": "markdown",
   "id": "7cfabe22",
   "metadata": {},
   "source": [
    "## <mark>Actual Downsampling</mark>"
   ]
  },
  {
   "cell_type": "code",
   "execution_count": null,
   "id": "91aed0e6",
   "metadata": {},
   "outputs": [],
   "source": [
    "from sklearn.utils import resample\n",
    "\n",
    "noHeartDiseases = dataFrame[dataFrame[label] == \"No\"]\n",
    "withHeartDiseases  = dataFrame[dataFrame[label] == \"Yes\"]\n",
    "\n",
    "noHeartDiseaseDownsample = resample(noHeartDiseases,\n",
    "             replace=True,\n",
    "             n_samples=len(withHeartDiseases),\n",
    "             random_state=42) \n",
    "    \n",
    "dataFrame = pd.concat([noHeartDiseaseDownsample, withHeartDiseases])"
   ]
  },
  {
   "cell_type": "markdown",
   "id": "7c009487",
   "metadata": {},
   "source": [
    "## Pie chart - Check the balance again"
   ]
  },
  {
   "cell_type": "code",
   "execution_count": null,
   "id": "9da7832e",
   "metadata": {},
   "outputs": [],
   "source": [
    "dataFrame.groupby(label).size().plot(kind='pie',\n",
    "                                       y = label,\n",
    "                                       label = \"HeartDisease\",\n",
    "                                       autopct='%1.1f%%')\n",
    "dataFrame[label].value_counts()"
   ]
  },
  {
   "cell_type": "markdown",
   "id": "1702b6fe",
   "metadata": {},
   "source": [
    "# DATA PREPARATION"
   ]
  },
  {
   "cell_type": "markdown",
   "id": "74fcf17e",
   "metadata": {},
   "source": [
    "## <mark>Transform Strings into Numbers</mark>"
   ]
  },
  {
   "cell_type": "code",
   "execution_count": null,
   "id": "be1ccd88",
   "metadata": {},
   "outputs": [],
   "source": [
    "obj_list = dataFrame.select_dtypes(include='object').columns\n",
    "\n",
    "from sklearn.preprocessing import LabelEncoder\n",
    "le = LabelEncoder()\n",
    "for obj in obj_list:\n",
    "        dataFrame[obj] = le.fit_transform(dataFrame[obj].astype(str))\n",
    "        \n",
    "dataFrame.tail()"
   ]
  },
  {
   "cell_type": "markdown",
   "id": "041edcf1",
   "metadata": {},
   "source": [
    "## <mark>Normalization</mark> \n",
    "Scaling data in a range from 0.0 to 1.0"
   ]
  },
  {
   "cell_type": "code",
   "execution_count": null,
   "id": "c6c96806",
   "metadata": {},
   "outputs": [],
   "source": [
    "from sklearn.preprocessing import MinMaxScaler\n",
    "from sklearn import preprocessing\n",
    "\n",
    "dataFrameValues = dataFrame.values \n",
    "scaler = preprocessing.MinMaxScaler()\n",
    "valueScaled = scaler.fit_transform(dataFrameValues)\n",
    "dataFrame = pd.DataFrame(valueScaled, columns=dataFrame.columns)\n",
    "dataFrame.tail()"
   ]
  },
  {
   "cell_type": "markdown",
   "id": "1ba1f7b4",
   "metadata": {},
   "source": [
    "The fit(data) method is used to compute the mean and std dev for a given feature to be used further for scaling.\n",
    "\n",
    "The transform(data) method is used to perform scaling using mean and std dev calculated using the .fit() method.\n",
    "\n",
    "The fit_transform() method does both fits and transform."
   ]
  },
  {
   "cell_type": "markdown",
   "id": "e5b75499",
   "metadata": {},
   "source": [
    "## Reducing Features\n",
    "\n",
    "**be aware which features you wanna drop**"
   ]
  },
  {
   "cell_type": "code",
   "execution_count": null,
   "id": "2431bc0e",
   "metadata": {},
   "outputs": [],
   "source": [
    "#dataFrame = dataFrame.drop(['AlcoholDrinking', 'PhysicalActivity', 'GenHealth', 'SleepTime', 'MentalHealth',  'Race'], axis=1)\n",
    "#dataFrame.tail()"
   ]
  },
  {
   "cell_type": "markdown",
   "id": "209a8f12",
   "metadata": {},
   "source": [
    "## Check the Data Quality again\n",
    "### Empty Data Check"
   ]
  },
  {
   "cell_type": "code",
   "execution_count": null,
   "id": "1ff5ddd8",
   "metadata": {},
   "outputs": [],
   "source": [
    "pd.options.mode.use_inf_as_na = True\n",
    "dataFrame.isnull().sum()"
   ]
  },
  {
   "cell_type": "markdown",
   "id": "69d69065",
   "metadata": {},
   "source": [
    "## Zero Values"
   ]
  },
  {
   "cell_type": "code",
   "execution_count": null,
   "id": "1debad50",
   "metadata": {},
   "outputs": [],
   "source": [
    "# Display how many 0 values each feature has\n",
    "print((dataFrame == 0).sum())"
   ]
  },
  {
   "cell_type": "markdown",
   "id": "9ac14f96",
   "metadata": {},
   "source": [
    "## Correlation Matrix"
   ]
  },
  {
   "cell_type": "code",
   "execution_count": null,
   "id": "a81ec251",
   "metadata": {},
   "outputs": [],
   "source": [
    "featureLength = len(featureNames)\n",
    "df_features_mean = dataFrame.iloc[:,0:featureLength]\n",
    "df_features_mean.tail()"
   ]
  },
  {
   "cell_type": "markdown",
   "id": "3bc46071",
   "metadata": {},
   "source": [
    "=> von Folie \"Developing for AI (AIML) p.39\" übernommen. => Ändert nichts am Output, also wozu?"
   ]
  },
  {
   "cell_type": "code",
   "execution_count": null,
   "id": "94a97c1e",
   "metadata": {},
   "outputs": [],
   "source": [
    "xd = dataFrame[featureNames]\n",
    "yd = dataFrame[label]\n",
    "\n",
    "sns.heatmap(\n",
    "    data=df_features_mean.corr(),\n",
    "    annot=True,\n",
    "    fmt='.2f',\n",
    "    cmap='coolwarm'\n",
    ")\n",
    "\n",
    "fig = plt.gcf()\n",
    "fig.set_size_inches(15, 15)\n",
    "\n",
    "plt.show()"
   ]
  },
  {
   "cell_type": "markdown",
   "id": "f0869bcf",
   "metadata": {},
   "source": [
    "# ALGORITHMS\n",
    "\n",
    "## <mark>Splitting Into Test & Training Data</mark>"
   ]
  },
  {
   "cell_type": "code",
   "execution_count": null,
   "id": "d18ea11c",
   "metadata": {},
   "outputs": [],
   "source": [
    "from sklearn.model_selection import train_test_split\n",
    "\n",
    "X = dataFrame.drop(label, axis=1).values #Feature Values\n",
    "y = dataFrame[label].values #heartDiseaseValues\n",
    "\n",
    "np.random.seed(41)\n",
    "X_train, X_test, y_train, y_test = train_test_split(X, y, test_size=0.2)\n",
    "X_train"
   ]
  },
  {
   "cell_type": "code",
   "execution_count": null,
   "id": "d129a624",
   "metadata": {},
   "outputs": [],
   "source": [
    "print(X_train.shape)\n",
    "print(y_train.shape)\n",
    "print(X_test.shape)\n",
    "print(y_test.shape)"
   ]
  },
  {
   "cell_type": "markdown",
   "id": "055bc7b1",
   "metadata": {},
   "source": [
    "## Algorithms with Overfitting Check"
   ]
  },
  {
   "cell_type": "markdown",
   "id": "8c6ad7f8",
   "metadata": {},
   "source": [
    "## KNN Overfitting Check failed"
   ]
  },
  {
   "cell_type": "code",
   "execution_count": null,
   "id": "11afa749",
   "metadata": {},
   "outputs": [],
   "source": [
    "from sklearn.neighbors import KNeighborsClassifier\n",
    "from sklearn.metrics import accuracy_score\n",
    "from matplotlib import pyplot\n",
    "\n",
    "trainScores, testScores = list(), list()\n",
    "neighbours = [i for i in range(1, 15)]\n",
    "\n",
    "for i in neighbours:\n",
    "    knn = KNeighborsClassifier(n_neighbors=i)\n",
    "    knn.fit(X_train, y_train)\n",
    "    \n",
    "    trainPrediction = knn.predict(X_train)\n",
    "    trainAccuracy = accuracy_score(y_train, trainPrediction)\n",
    "    trainScores.append(trainAccuracy)\n",
    "    \n",
    "    testPrediction = knn.predict(X_test)\n",
    "    testAccuracy = accuracy_score(y_test, testPrediction)\n",
    "    testScores.append(testAccuracy)\n",
    "    print('>%d, train: %.3f, test: %.3f' % (i, trainAccuracy, testAccuracy))\n",
    "    \n",
    "pyplot.plot(neighbours, trainScores, '-o', label='Train')\n",
    "pyplot.plot(neighbours, testScores, '-o', label='Test')\n",
    "pyplot.legend()\n",
    "pyplot.show()"
   ]
  },
  {
   "cell_type": "markdown",
   "id": "07891ccf",
   "metadata": {},
   "source": [
    "=> An Overfitting Analysis like this with KNN is inappropriate, according to \n",
    "\n",
    "https://machinelearningmastery.com/overfitting-machine-learning-models#attachment_11578"
   ]
  },
  {
   "cell_type": "markdown",
   "id": "1c6b5056",
   "metadata": {},
   "source": [
    "## KNN with Cross-Validation ~73%"
   ]
  },
  {
   "cell_type": "code",
   "execution_count": null,
   "id": "2180ab2a",
   "metadata": {},
   "outputs": [],
   "source": [
    "from sklearn.neighbors import KNeighborsClassifier\n",
    "from sklearn.model_selection import cross_val_score\n",
    "\n",
    "knn = KNeighborsClassifier()\n",
    "scores = cross_val_score(knn, X_train, y_train, cv = 5) # cv = number of folds, default: 5\n",
    "print(\"Accuracy: %0.2f (+/- %0.2f)\" % (scores.mean()*100, scores.std() * 2))"
   ]
  },
  {
   "cell_type": "markdown",
   "id": "6d9957aa",
   "metadata": {},
   "source": [
    "### Confusion Matrix\n",
    "More detailed Evaluation of the Accuracy"
   ]
  },
  {
   "cell_type": "code",
   "execution_count": null,
   "id": "57238853",
   "metadata": {},
   "outputs": [],
   "source": [
    "from sklearn import metrics\n",
    "from sklearn.metrics import classification_report\n",
    "\n",
    "knn = KNeighborsClassifier()\n",
    "knn.fit(X_train, y_train)\n",
    "testPrediction = knn.predict(X_test)\n",
    "\n",
    "conf_matrix = metrics.confusion_matrix(y_test, testPrediction)\n",
    "\n",
    "tn, fp, fn, tp = conf_matrix.ravel()\n",
    "print(f\"True negatives: {tn}, False positives: {fp}, False negatives: {fn}, True positives: {tp}\")\n",
    "print(classification_report(y_test, testPrediction))"
   ]
  },
  {
   "cell_type": "markdown",
   "id": "6fd05175",
   "metadata": {},
   "source": [
    "Explanation of the report, copy pasted from the slides:\n",
    "\n",
    "Precision: proportion of true positives among instances classified as positive, e.g.\n",
    "the proportion of Iris virginica correctly identified as Iris virginica.\n",
    "\n",
    "Recall: proportion of true positives among all positive instances in the data, e.g. the\n",
    "number of sick among all diagnosed as sick.\n",
    "\n",
    "F-1: weighted harmonic mean of precision and recall.\n"
   ]
  },
  {
   "cell_type": "markdown",
   "id": "d5743c57",
   "metadata": {},
   "source": [
    "## Logistic Regression ~75%"
   ]
  },
  {
   "cell_type": "code",
   "execution_count": null,
   "id": "899d9d8d",
   "metadata": {},
   "outputs": [],
   "source": [
    "from sklearn.linear_model import LogisticRegression\n",
    "from sklearn.metrics import accuracy_score\n",
    "from matplotlib import pyplot\n",
    "\n",
    "trainScores, testScores = list(), list()\n",
    "treeDepths = [i for i in range(1, 21)]\n",
    "\n",
    "for i in treeDepths:\n",
    "    model = LogisticRegression(max_iter=i)\n",
    "    model.fit(X_train, y_train)\n",
    "    \n",
    "    trainPrediction = model.predict(X_train)\n",
    "    trainAccuracy = accuracy_score(y_train, trainPrediction) * 100\n",
    "    trainScores.append(trainAccuracy)\n",
    "    \n",
    "    testPrediction = model.predict(X_test)\n",
    "    testAccuracy = accuracy_score(y_test, testPrediction) * 100\n",
    "    testScores.append(testAccuracy)\n",
    "    \n",
    "    if i % 10 == 0: print('>%d, train: %.3f, test: %.3f' % (i, trainAccuracy, testAccuracy))\n",
    "\n",
    "pyplot.plot(treeDepths, trainScores, '-o', label='Train')\n",
    "pyplot.plot(treeDepths, testScores, '-o', label='Test')\n",
    "pyplot.legend()\n",
    "pyplot.show()\n",
    "\n",
    "print(\"The point of NO overfitting is not existent? Stop iteration anyway at 20\")\n",
    "print(\"Score:\")\n",
    "print(model.score(X_test, y_test)*100)"
   ]
  },
  {
   "cell_type": "markdown",
   "id": "1cb62985",
   "metadata": {},
   "source": [
    "## Random Forest Classifier ~76%"
   ]
  },
  {
   "cell_type": "code",
   "execution_count": null,
   "id": "97e487e7",
   "metadata": {},
   "outputs": [],
   "source": [
    "from sklearn.ensemble import RandomForestClassifier\n",
    "from sklearn.metrics import accuracy_score\n",
    "from matplotlib import pyplot\n",
    "\n",
    "trainScores, testScores = list(), list()\n",
    "treeDepths = [i for i in range(1, 8)]\n",
    "\n",
    "for i in treeDepths:\n",
    "    model = RandomForestClassifier(max_depth=i)\n",
    "    model.fit(X_train, y_train)\n",
    "    \n",
    "    trainPrediction = model.predict(X_train)\n",
    "    trainAccuracy = accuracy_score(y_train, trainPrediction) * 100\n",
    "    trainScores.append(trainAccuracy)\n",
    "    \n",
    "    testPrediction = model.predict(X_test)\n",
    "    testAccuracy = accuracy_score(y_test, testPrediction) * 100\n",
    "    testScores.append(testAccuracy)\n",
    "    \n",
    "    print('>%d, train: %.3f, test: %.3f' % (i, trainAccuracy, testAccuracy))\n",
    "\n",
    "pyplot.plot(treeDepths, trainScores, '-o', label='Train')\n",
    "pyplot.plot(treeDepths, testScores, '-o', label='Test')\n",
    "pyplot.legend()\n",
    "pyplot.show()\n",
    "\n",
    "print(\"The point of NO overfitting is 7\")\n",
    "print(\"Score:\")\n",
    "print(model.score(X_test, y_test)*100)"
   ]
  },
  {
   "cell_type": "markdown",
   "id": "a3795b3a",
   "metadata": {},
   "source": [
    "## Decision Tree Classifier ~75%"
   ]
  },
  {
   "cell_type": "code",
   "execution_count": null,
   "id": "adc51dc9",
   "metadata": {},
   "outputs": [],
   "source": [
    "from sklearn.tree import DecisionTreeClassifier\n",
    "from sklearn.metrics import accuracy_score\n",
    "from matplotlib import pyplot\n",
    "\n",
    "trainScores, testScores = list(), list()\n",
    "treeDepths = [i for i in range(1, 9)]\n",
    "\n",
    "for i in treeDepths:\n",
    "    model = DecisionTreeClassifier(max_depth=i)\n",
    "    model.fit(X_train, y_train)\n",
    "    \n",
    "    trainPrediction = model.predict(X_train)\n",
    "    trainAccuracy = accuracy_score(y_train, trainPrediction) * 100\n",
    "    trainScores.append(trainAccuracy)\n",
    "    \n",
    "    testPrediction = model.predict(X_test)\n",
    "    testAccuracy = accuracy_score(y_test, testPrediction) * 100\n",
    "    testScores.append(testAccuracy)\n",
    "    \n",
    "    print('>%d, train: %.3f, test: %.3f' % (i, trainAccuracy, testAccuracy))\n",
    "\n",
    "pyplot.plot(treeDepths, trainScores, '-o', label='Train')\n",
    "pyplot.plot(treeDepths, testScores, '-o', label='Test')\n",
    "pyplot.legend()\n",
    "pyplot.show()\n",
    "\n",
    "print(\"The point of NO overfitting is 8\")\n",
    "print(\"Score:\")\n",
    "print(model.score(X_test, y_test) * 100)"
   ]
  },
  {
   "cell_type": "markdown",
   "id": "f8a12225",
   "metadata": {},
   "source": [
    "## Support Vector Machines ~76%"
   ]
  },
  {
   "cell_type": "code",
   "execution_count": null,
   "id": "682f78e1",
   "metadata": {},
   "outputs": [],
   "source": [
    "from sklearn import svm\n",
    "\n",
    "svc = svm.SVC(gamma=\"scale\", random_state=10)\n",
    "svc.fit(X_train, y_train)\n",
    "\n",
    "print(\"Score:\")\n",
    "print(svc.score(X_test, y_test) * 100)"
   ]
  },
  {
   "cell_type": "markdown",
   "id": "bca8d7f0",
   "metadata": {},
   "source": [
    "## NN aka Multi-Layer Perceptrons ~76%"
   ]
  },
  {
   "cell_type": "code",
   "execution_count": null,
   "id": "c77faa65",
   "metadata": {},
   "outputs": [],
   "source": [
    "from sklearn.neural_network import MLPClassifier\n",
    "from sklearn.metrics import accuracy_score\n",
    "from matplotlib import pyplot\n",
    "\n",
    "trainScores, testScores = list(), list()\n",
    "iterations = [i for i in range(1, 51)] #1500? takes a long time\n",
    "\n",
    "for i in iterations:\n",
    "    model = MLPClassifier(max_iter=i, random_state=10)\n",
    "    model.fit(X_train, y_train)\n",
    "    \n",
    "    trainPrediction = model.predict(X_train)\n",
    "    trainAccuracy = accuracy_score(y_train, trainPrediction) * 100\n",
    "    trainScores.append(trainAccuracy)\n",
    "    \n",
    "    testPrediction = model.predict(X_test)\n",
    "    testAccuracy = accuracy_score(y_test, testPrediction) * 100\n",
    "    testScores.append(testAccuracy)\n",
    "    \n",
    "    print('>%d, train: %.3f, test: %.3f' % (i, trainAccuracy, testAccuracy))\n",
    "\n",
    "pyplot.plot(iterations, trainScores, '-o', label='Train')\n",
    "pyplot.plot(iterations, testScores, '-o', label='Test')\n",
    "pyplot.legend()\n",
    "pyplot.show()\n",
    "\n",
    "print(\"The point of NO overfitting is XX\")\n",
    "print(\"Score:\")\n",
    "print(model.score(X_test, y_test) * 100)"
   ]
  },
  {
   "cell_type": "code",
   "execution_count": null,
   "id": "c56c6c43",
   "metadata": {},
   "outputs": [],
   "source": [
    "from sklearn.neural_network import MLPClassifier\n",
    "\n",
    "mlp = MLPClassifier(max_iter=1000, random_state=10)\n",
    "mlp.fit(X_train, y_train)\n",
    "\n",
    "print(\"Accuracy on training set:{:.2f}\".format(mlp.score(X_train, y_train)))\n",
    "print(\"Accuracy on test set:{:.2f}\".format(mlp.score(X_test, y_test)))\n"
   ]
  }
 ],
 "metadata": {
  "colab": {
   "collapsed_sections": [],
   "provenance": []
  },
  "kernelspec": {
   "display_name": "Python 3 (ipykernel)",
   "language": "python",
   "name": "python3"
  },
  "language_info": {
   "codemirror_mode": {
    "name": "ipython",
    "version": 3
   },
   "file_extension": ".py",
   "mimetype": "text/x-python",
   "name": "python",
   "nbconvert_exporter": "python",
   "pygments_lexer": "ipython3",
   "version": "3.9.13"
  }
 },
 "nbformat": 4,
 "nbformat_minor": 5
}
