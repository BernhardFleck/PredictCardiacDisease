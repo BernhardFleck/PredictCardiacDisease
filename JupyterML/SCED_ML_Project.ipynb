{
 "cells": [
  {
   "cell_type": "markdown",
   "id": "c0c92fa2",
   "metadata": {
    "id": "c0c92fa2"
   },
   "source": [
    "# <mark>READ DATASET & PRINT DATA TABLE</mark>"
   ]
  },
  {
   "cell_type": "code",
   "execution_count": 4,
   "id": "247cc28a",
   "metadata": {
    "colab": {
     "base_uri": "https://localhost:8080/",
     "height": 206
    },
    "executionInfo": {
     "elapsed": 881,
     "status": "ok",
     "timestamp": 1668681881108,
     "user": {
      "displayName": "Nicole König",
      "userId": "04945880460600677398"
     },
     "user_tz": -60
    },
    "id": "247cc28a",
    "outputId": "c80c2824-7cc1-48f0-d627-2488a9582014"
   },
   "outputs": [
    {
     "data": {
      "text/html": [
       "<div>\n",
       "<style scoped>\n",
       "    .dataframe tbody tr th:only-of-type {\n",
       "        vertical-align: middle;\n",
       "    }\n",
       "\n",
       "    .dataframe tbody tr th {\n",
       "        vertical-align: top;\n",
       "    }\n",
       "\n",
       "    .dataframe thead th {\n",
       "        text-align: right;\n",
       "    }\n",
       "</style>\n",
       "<table border=\"1\" class=\"dataframe\">\n",
       "  <thead>\n",
       "    <tr style=\"text-align: right;\">\n",
       "      <th></th>\n",
       "      <th>HeartDisease</th>\n",
       "      <th>BMI</th>\n",
       "      <th>Smoking</th>\n",
       "      <th>AlcoholDrinking</th>\n",
       "      <th>Stroke</th>\n",
       "      <th>PhysicalHealth</th>\n",
       "      <th>MentalHealth</th>\n",
       "      <th>DiffWalking</th>\n",
       "      <th>Sex</th>\n",
       "      <th>AgeCategory</th>\n",
       "      <th>Race</th>\n",
       "      <th>Diabetic</th>\n",
       "      <th>PhysicalActivity</th>\n",
       "      <th>GenHealth</th>\n",
       "      <th>SleepTime</th>\n",
       "      <th>Asthma</th>\n",
       "      <th>KidneyDisease</th>\n",
       "      <th>SkinCancer</th>\n",
       "    </tr>\n",
       "  </thead>\n",
       "  <tbody>\n",
       "    <tr>\n",
       "      <th>319790</th>\n",
       "      <td>Yes</td>\n",
       "      <td>27.41</td>\n",
       "      <td>Yes</td>\n",
       "      <td>No</td>\n",
       "      <td>No</td>\n",
       "      <td>7.0</td>\n",
       "      <td>0.0</td>\n",
       "      <td>Yes</td>\n",
       "      <td>Male</td>\n",
       "      <td>60-64</td>\n",
       "      <td>Hispanic</td>\n",
       "      <td>Yes</td>\n",
       "      <td>No</td>\n",
       "      <td>Fair</td>\n",
       "      <td>6.0</td>\n",
       "      <td>Yes</td>\n",
       "      <td>No</td>\n",
       "      <td>No</td>\n",
       "    </tr>\n",
       "    <tr>\n",
       "      <th>319791</th>\n",
       "      <td>No</td>\n",
       "      <td>29.84</td>\n",
       "      <td>Yes</td>\n",
       "      <td>No</td>\n",
       "      <td>No</td>\n",
       "      <td>0.0</td>\n",
       "      <td>0.0</td>\n",
       "      <td>No</td>\n",
       "      <td>Male</td>\n",
       "      <td>35-39</td>\n",
       "      <td>Hispanic</td>\n",
       "      <td>No</td>\n",
       "      <td>Yes</td>\n",
       "      <td>Very good</td>\n",
       "      <td>5.0</td>\n",
       "      <td>Yes</td>\n",
       "      <td>No</td>\n",
       "      <td>No</td>\n",
       "    </tr>\n",
       "    <tr>\n",
       "      <th>319792</th>\n",
       "      <td>No</td>\n",
       "      <td>24.24</td>\n",
       "      <td>No</td>\n",
       "      <td>No</td>\n",
       "      <td>No</td>\n",
       "      <td>0.0</td>\n",
       "      <td>0.0</td>\n",
       "      <td>No</td>\n",
       "      <td>Female</td>\n",
       "      <td>45-49</td>\n",
       "      <td>Hispanic</td>\n",
       "      <td>No</td>\n",
       "      <td>Yes</td>\n",
       "      <td>Good</td>\n",
       "      <td>6.0</td>\n",
       "      <td>No</td>\n",
       "      <td>No</td>\n",
       "      <td>No</td>\n",
       "    </tr>\n",
       "    <tr>\n",
       "      <th>319793</th>\n",
       "      <td>No</td>\n",
       "      <td>32.81</td>\n",
       "      <td>No</td>\n",
       "      <td>No</td>\n",
       "      <td>No</td>\n",
       "      <td>0.0</td>\n",
       "      <td>0.0</td>\n",
       "      <td>No</td>\n",
       "      <td>Female</td>\n",
       "      <td>25-29</td>\n",
       "      <td>Hispanic</td>\n",
       "      <td>No</td>\n",
       "      <td>No</td>\n",
       "      <td>Good</td>\n",
       "      <td>12.0</td>\n",
       "      <td>No</td>\n",
       "      <td>No</td>\n",
       "      <td>No</td>\n",
       "    </tr>\n",
       "    <tr>\n",
       "      <th>319794</th>\n",
       "      <td>No</td>\n",
       "      <td>46.56</td>\n",
       "      <td>No</td>\n",
       "      <td>No</td>\n",
       "      <td>No</td>\n",
       "      <td>0.0</td>\n",
       "      <td>0.0</td>\n",
       "      <td>No</td>\n",
       "      <td>Female</td>\n",
       "      <td>80 or older</td>\n",
       "      <td>Hispanic</td>\n",
       "      <td>No</td>\n",
       "      <td>Yes</td>\n",
       "      <td>Good</td>\n",
       "      <td>8.0</td>\n",
       "      <td>No</td>\n",
       "      <td>No</td>\n",
       "      <td>No</td>\n",
       "    </tr>\n",
       "  </tbody>\n",
       "</table>\n",
       "</div>"
      ],
      "text/plain": [
       "       HeartDisease    BMI Smoking AlcoholDrinking Stroke  PhysicalHealth  \\\n",
       "319790          Yes  27.41     Yes              No     No             7.0   \n",
       "319791           No  29.84     Yes              No     No             0.0   \n",
       "319792           No  24.24      No              No     No             0.0   \n",
       "319793           No  32.81      No              No     No             0.0   \n",
       "319794           No  46.56      No              No     No             0.0   \n",
       "\n",
       "        MentalHealth DiffWalking     Sex  AgeCategory      Race Diabetic  \\\n",
       "319790           0.0         Yes    Male        60-64  Hispanic      Yes   \n",
       "319791           0.0          No    Male        35-39  Hispanic       No   \n",
       "319792           0.0          No  Female        45-49  Hispanic       No   \n",
       "319793           0.0          No  Female        25-29  Hispanic       No   \n",
       "319794           0.0          No  Female  80 or older  Hispanic       No   \n",
       "\n",
       "       PhysicalActivity  GenHealth  SleepTime Asthma KidneyDisease SkinCancer  \n",
       "319790               No       Fair        6.0    Yes            No         No  \n",
       "319791              Yes  Very good        5.0    Yes            No         No  \n",
       "319792              Yes       Good        6.0     No            No         No  \n",
       "319793               No       Good       12.0     No            No         No  \n",
       "319794              Yes       Good        8.0     No            No         No  "
      ]
     },
     "execution_count": 4,
     "metadata": {},
     "output_type": "execute_result"
    }
   ],
   "source": [
    "import pandas as pd\n",
    "import sklearn.datasets\n",
    "import numpy as np\n",
    "import matplotlib.pyplot as plt\n",
    "import seaborn as sns\n",
    "import warnings\n",
    "warnings.filterwarnings('ignore')\n",
    "\n",
    "dataFrame = pd.read_csv('heart_2020_cleaned.csv', sep=',')\n",
    "label = 'HeartDisease'\n",
    "featureNames = dataFrame.columns\n",
    "\n",
    "#dataFrame.head()\n",
    "dataFrame.tail()"
   ]
  },
  {
   "cell_type": "markdown",
   "id": "971f88cb",
   "metadata": {
    "id": "971f88cb"
   },
   "source": [
    "# DOWNSAMPLING \n",
    "for a balanced dataset, it has to be down/upcycled "
   ]
  },
  {
   "cell_type": "markdown",
   "id": "ec6fe11b",
   "metadata": {
    "id": "ec6fe11b"
   },
   "source": [
    "## Pie chart - Show the im/balance"
   ]
  },
  {
   "cell_type": "code",
   "execution_count": 6,
   "id": "d8133671",
   "metadata": {
    "colab": {
     "base_uri": "https://localhost:8080/",
     "height": 317
    },
    "executionInfo": {
     "elapsed": 33,
     "status": "ok",
     "timestamp": 1668681881808,
     "user": {
      "displayName": "Nicole König",
      "userId": "04945880460600677398"
     },
     "user_tz": -60
    },
    "id": "d8133671",
    "outputId": "62b0a5d3-b05d-41d0-aec0-6929fa98043b"
   },
   "outputs": [
    {
     "name": "stdout",
     "output_type": "stream",
     "text": [
      "No     292422\n",
      "Yes     27373\n",
      "Name: HeartDisease, dtype: int64\n"
     ]
    },
    {
     "data": {
      "text/plain": [
       "<matplotlib.axes._subplots.AxesSubplot at 0x7fb6ab9b4510>"
      ]
     },
     "execution_count": 6,
     "metadata": {},
     "output_type": "execute_result"
    },
    {
     "data": {
      "image/png": "[encoded data removed]",
      "text/plain": [
       "<Figure size 432x288 with 1 Axes>"
      ]
     },
     "metadata": {},
     "output_type": "display_data"
    }
   ],
   "source": [
    "print(dataFrame[label].value_counts())\n",
    "dataFrame.groupby(label).size().plot(kind='pie',\n",
    "                                       y = label,\n",
    "                                       label = \"HeartDisease\",\n",
    "                                       autopct='%1.1f%%')"
   ]
  },
  {
   "cell_type": "markdown",
   "id": "7cfabe22",
   "metadata": {
    "id": "7cfabe22"
   },
   "source": [
    "## <mark>Actual Downsampling</mark>"
   ]
  },
  {
   "cell_type": "code",
   "execution_count": 5,
   "id": "91aed0e6",
   "metadata": {
    "executionInfo": {
     "elapsed": 29,
     "status": "ok",
     "timestamp": 1668681881809,
     "user": {
      "displayName": "Nicole König",
      "userId": "04945880460600677398"
     },
     "user_tz": -60
    },
    "id": "91aed0e6"
   },
   "outputs": [],
   "source": [
    "from sklearn.utils import resample\n",
    "\n",
    "noHeartDiseases = dataFrame[dataFrame[label] == \"No\"]\n",
    "withHeartDiseases  = dataFrame[dataFrame[label] == \"Yes\"]\n",
    "\n",
    "noHeartDiseaseDownsample = resample(noHeartDiseases,\n",
    "             replace=True,\n",
    "             n_samples=len(withHeartDiseases),\n",
    "             random_state=42) \n",
    "    \n",
    "dataFrame = pd.concat([noHeartDiseaseDownsample, withHeartDiseases])"
   ]
  },
  {
   "cell_type": "markdown",
   "id": "7c009487",
   "metadata": {
    "id": "7c009487"
   },
   "source": [
    "## Pie chart - Check the balance again"
   ]
  },
  {
   "cell_type": "code",
   "execution_count": 8,
   "id": "9da7832e",
   "metadata": {
    "colab": {
     "base_uri": "https://localhost:8080/",
     "height": 300
    },
    "executionInfo": {
     "elapsed": 29,
     "status": "ok",
     "timestamp": 1668681881809,
     "user": {
      "displayName": "Nicole König",
      "userId": "04945880460600677398"
     },
     "user_tz": -60
    },
    "id": "9da7832e",
    "outputId": "d4378a40-1efb-4f62-a66b-3239889a7373"
   },
   "outputs": [
    {
     "data": {
      "text/plain": [
       "No     27373\n",
       "Yes    27373\n",
       "Name: HeartDisease, dtype: int64"
      ]
     },
     "execution_count": 8,
     "metadata": {},
     "output_type": "execute_result"
    },
    {
     "data": {
      "image/png": "[encoded data removed]",
      "text/plain": [
       "<Figure size 432x288 with 1 Axes>"
      ]
     },
     "metadata": {},
     "output_type": "display_data"
    }
   ],
   "source": [
    "dataFrame.groupby(label).size().plot(kind='pie',\n",
    "                                       y = label,\n",
    "                                       label = \"HeartDisease\",\n",
    "                                       autopct='%1.1f%%')\n",
    "dataFrame[label].value_counts()"
   ]
  },
  {
   "cell_type": "markdown",
   "id": "1702b6fe",
   "metadata": {
    "id": "1702b6fe"
   },
   "source": [
    "# DATA PREPARATION"
   ]
  },
  {
   "cell_type": "markdown",
   "id": "74fcf17e",
   "metadata": {
    "id": "74fcf17e"
   },
   "source": [
    "## <mark>Transform Strings into Numbers</mark>"
   ]
  },
  {
   "cell_type": "code",
   "execution_count": 6,
   "id": "be1ccd88",
   "metadata": {
    "colab": {
     "base_uri": "https://localhost:8080/",
     "height": 206
    },
    "executionInfo": {
     "elapsed": 27,
     "status": "ok",
     "timestamp": 1668681881810,
     "user": {
      "displayName": "Nicole König",
      "userId": "04945880460600677398"
     },
     "user_tz": -60
    },
    "id": "be1ccd88",
    "outputId": "529ee6da-707f-4696-8811-f7dce5962e73"
   },
   "outputs": [
    {
     "data": {
      "text/html": [
       "<div>\n",
       "<style scoped>\n",
       "    .dataframe tbody tr th:only-of-type {\n",
       "        vertical-align: middle;\n",
       "    }\n",
       "\n",
       "    .dataframe tbody tr th {\n",
       "        vertical-align: top;\n",
       "    }\n",
       "\n",
       "    .dataframe thead th {\n",
       "        text-align: right;\n",
       "    }\n",
       "</style>\n",
       "<table border=\"1\" class=\"dataframe\">\n",
       "  <thead>\n",
       "    <tr style=\"text-align: right;\">\n",
       "      <th></th>\n",
       "      <th>HeartDisease</th>\n",
       "      <th>BMI</th>\n",
       "      <th>Smoking</th>\n",
       "      <th>AlcoholDrinking</th>\n",
       "      <th>Stroke</th>\n",
       "      <th>PhysicalHealth</th>\n",
       "      <th>MentalHealth</th>\n",
       "      <th>DiffWalking</th>\n",
       "      <th>Sex</th>\n",
       "      <th>AgeCategory</th>\n",
       "      <th>Race</th>\n",
       "      <th>Diabetic</th>\n",
       "      <th>PhysicalActivity</th>\n",
       "      <th>GenHealth</th>\n",
       "      <th>SleepTime</th>\n",
       "      <th>Asthma</th>\n",
       "      <th>KidneyDisease</th>\n",
       "      <th>SkinCancer</th>\n",
       "    </tr>\n",
       "  </thead>\n",
       "  <tbody>\n",
       "    <tr>\n",
       "      <th>319765</th>\n",
       "      <td>1</td>\n",
       "      <td>38.45</td>\n",
       "      <td>0</td>\n",
       "      <td>0</td>\n",
       "      <td>1</td>\n",
       "      <td>30.0</td>\n",
       "      <td>15.0</td>\n",
       "      <td>1</td>\n",
       "      <td>0</td>\n",
       "      <td>7</td>\n",
       "      <td>3</td>\n",
       "      <td>2</td>\n",
       "      <td>1</td>\n",
       "      <td>3</td>\n",
       "      <td>6.0</td>\n",
       "      <td>1</td>\n",
       "      <td>0</td>\n",
       "      <td>0</td>\n",
       "    </tr>\n",
       "    <tr>\n",
       "      <th>319767</th>\n",
       "      <td>1</td>\n",
       "      <td>36.21</td>\n",
       "      <td>1</td>\n",
       "      <td>0</td>\n",
       "      <td>0</td>\n",
       "      <td>0.0</td>\n",
       "      <td>0.0</td>\n",
       "      <td>1</td>\n",
       "      <td>0</td>\n",
       "      <td>11</td>\n",
       "      <td>3</td>\n",
       "      <td>2</td>\n",
       "      <td>1</td>\n",
       "      <td>2</td>\n",
       "      <td>8.0</td>\n",
       "      <td>0</td>\n",
       "      <td>0</td>\n",
       "      <td>0</td>\n",
       "    </tr>\n",
       "    <tr>\n",
       "      <th>319781</th>\n",
       "      <td>1</td>\n",
       "      <td>37.12</td>\n",
       "      <td>1</td>\n",
       "      <td>0</td>\n",
       "      <td>0</td>\n",
       "      <td>0.0</td>\n",
       "      <td>0.0</td>\n",
       "      <td>0</td>\n",
       "      <td>1</td>\n",
       "      <td>3</td>\n",
       "      <td>3</td>\n",
       "      <td>0</td>\n",
       "      <td>1</td>\n",
       "      <td>4</td>\n",
       "      <td>7.0</td>\n",
       "      <td>0</td>\n",
       "      <td>0</td>\n",
       "      <td>0</td>\n",
       "    </tr>\n",
       "    <tr>\n",
       "      <th>319786</th>\n",
       "      <td>1</td>\n",
       "      <td>33.20</td>\n",
       "      <td>1</td>\n",
       "      <td>0</td>\n",
       "      <td>0</td>\n",
       "      <td>0.0</td>\n",
       "      <td>0.0</td>\n",
       "      <td>0</td>\n",
       "      <td>0</td>\n",
       "      <td>8</td>\n",
       "      <td>3</td>\n",
       "      <td>2</td>\n",
       "      <td>1</td>\n",
       "      <td>4</td>\n",
       "      <td>8.0</td>\n",
       "      <td>1</td>\n",
       "      <td>0</td>\n",
       "      <td>0</td>\n",
       "    </tr>\n",
       "    <tr>\n",
       "      <th>319790</th>\n",
       "      <td>1</td>\n",
       "      <td>27.41</td>\n",
       "      <td>1</td>\n",
       "      <td>0</td>\n",
       "      <td>0</td>\n",
       "      <td>7.0</td>\n",
       "      <td>0.0</td>\n",
       "      <td>1</td>\n",
       "      <td>1</td>\n",
       "      <td>8</td>\n",
       "      <td>3</td>\n",
       "      <td>2</td>\n",
       "      <td>0</td>\n",
       "      <td>1</td>\n",
       "      <td>6.0</td>\n",
       "      <td>1</td>\n",
       "      <td>0</td>\n",
       "      <td>0</td>\n",
       "    </tr>\n",
       "  </tbody>\n",
       "</table>\n",
       "</div>"
      ],
      "text/plain": [
       "        HeartDisease    BMI  Smoking  AlcoholDrinking  Stroke  PhysicalHealth  \\\n",
       "319765             1  38.45        0                0       1            30.0   \n",
       "319767             1  36.21        1                0       0             0.0   \n",
       "319781             1  37.12        1                0       0             0.0   \n",
       "319786             1  33.20        1                0       0             0.0   \n",
       "319790             1  27.41        1                0       0             7.0   \n",
       "\n",
       "        MentalHealth  DiffWalking  Sex  AgeCategory  Race  Diabetic  \\\n",
       "319765          15.0            1    0            7     3         2   \n",
       "319767           0.0            1    0           11     3         2   \n",
       "319781           0.0            0    1            3     3         0   \n",
       "319786           0.0            0    0            8     3         2   \n",
       "319790           0.0            1    1            8     3         2   \n",
       "\n",
       "        PhysicalActivity  GenHealth  SleepTime  Asthma  KidneyDisease  \\\n",
       "319765                 1          3        6.0       1              0   \n",
       "319767                 1          2        8.0       0              0   \n",
       "319781                 1          4        7.0       0              0   \n",
       "319786                 1          4        8.0       1              0   \n",
       "319790                 0          1        6.0       1              0   \n",
       "\n",
       "        SkinCancer  \n",
       "319765           0  \n",
       "319767           0  \n",
       "319781           0  \n",
       "319786           0  \n",
       "319790           0  "
      ]
     },
     "execution_count": 6,
     "metadata": {},
     "output_type": "execute_result"
    }
   ],
   "source": [
    "obj_list = dataFrame.select_dtypes(include='object').columns\n",
    "\n",
    "from sklearn.preprocessing import LabelEncoder\n",
    "le = LabelEncoder()\n",
    "for obj in obj_list:\n",
    "        dataFrame[obj] = le.fit_transform(dataFrame[obj].astype(str))\n",
    "        \n",
    "dataFrame.tail()"
   ]
  },
  {
   "cell_type": "markdown",
   "id": "041edcf1",
   "metadata": {
    "id": "041edcf1"
   },
   "source": [
    "## <mark>Normalization</mark> \n",
    "Scaling data in a range from 0.0 to 1.0"
   ]
  },
  {
   "cell_type": "code",
   "execution_count": 7,
   "id": "c6c96806",
   "metadata": {
    "colab": {
     "base_uri": "https://localhost:8080/",
     "height": 206
    },
    "executionInfo": {
     "elapsed": 26,
     "status": "ok",
     "timestamp": 1668681881810,
     "user": {
      "displayName": "Nicole König",
      "userId": "04945880460600677398"
     },
     "user_tz": -60
    },
    "id": "c6c96806",
    "outputId": "cf834faf-0833-4d78-e8c8-145b5a6969ac"
   },
   "outputs": [
    {
     "data": {
      "text/html": [
       "<div>\n",
       "<style scoped>\n",
       "    .dataframe tbody tr th:only-of-type {\n",
       "        vertical-align: middle;\n",
       "    }\n",
       "\n",
       "    .dataframe tbody tr th {\n",
       "        vertical-align: top;\n",
       "    }\n",
       "\n",
       "    .dataframe thead th {\n",
       "        text-align: right;\n",
       "    }\n",
       "</style>\n",
       "<table border=\"1\" class=\"dataframe\">\n",
       "  <thead>\n",
       "    <tr style=\"text-align: right;\">\n",
       "      <th></th>\n",
       "      <th>HeartDisease</th>\n",
       "      <th>BMI</th>\n",
       "      <th>Smoking</th>\n",
       "      <th>AlcoholDrinking</th>\n",
       "      <th>Stroke</th>\n",
       "      <th>PhysicalHealth</th>\n",
       "      <th>MentalHealth</th>\n",
       "      <th>DiffWalking</th>\n",
       "      <th>Sex</th>\n",
       "      <th>AgeCategory</th>\n",
       "      <th>Race</th>\n",
       "      <th>Diabetic</th>\n",
       "      <th>PhysicalActivity</th>\n",
       "      <th>GenHealth</th>\n",
       "      <th>SleepTime</th>\n",
       "      <th>Asthma</th>\n",
       "      <th>KidneyDisease</th>\n",
       "      <th>SkinCancer</th>\n",
       "    </tr>\n",
       "  </thead>\n",
       "  <tbody>\n",
       "    <tr>\n",
       "      <th>54741</th>\n",
       "      <td>1.0</td>\n",
       "      <td>0.329607</td>\n",
       "      <td>0.0</td>\n",
       "      <td>0.0</td>\n",
       "      <td>1.0</td>\n",
       "      <td>1.000000</td>\n",
       "      <td>0.5</td>\n",
       "      <td>1.0</td>\n",
       "      <td>0.0</td>\n",
       "      <td>0.583333</td>\n",
       "      <td>0.6</td>\n",
       "      <td>0.666667</td>\n",
       "      <td>1.0</td>\n",
       "      <td>0.75</td>\n",
       "      <td>0.217391</td>\n",
       "      <td>1.0</td>\n",
       "      <td>0.0</td>\n",
       "      <td>0.0</td>\n",
       "    </tr>\n",
       "    <tr>\n",
       "      <th>54742</th>\n",
       "      <td>1.0</td>\n",
       "      <td>0.301470</td>\n",
       "      <td>1.0</td>\n",
       "      <td>0.0</td>\n",
       "      <td>0.0</td>\n",
       "      <td>0.000000</td>\n",
       "      <td>0.0</td>\n",
       "      <td>1.0</td>\n",
       "      <td>0.0</td>\n",
       "      <td>0.916667</td>\n",
       "      <td>0.6</td>\n",
       "      <td>0.666667</td>\n",
       "      <td>1.0</td>\n",
       "      <td>0.50</td>\n",
       "      <td>0.304348</td>\n",
       "      <td>0.0</td>\n",
       "      <td>0.0</td>\n",
       "      <td>0.0</td>\n",
       "    </tr>\n",
       "    <tr>\n",
       "      <th>54743</th>\n",
       "      <td>1.0</td>\n",
       "      <td>0.312900</td>\n",
       "      <td>1.0</td>\n",
       "      <td>0.0</td>\n",
       "      <td>0.0</td>\n",
       "      <td>0.000000</td>\n",
       "      <td>0.0</td>\n",
       "      <td>0.0</td>\n",
       "      <td>1.0</td>\n",
       "      <td>0.250000</td>\n",
       "      <td>0.6</td>\n",
       "      <td>0.000000</td>\n",
       "      <td>1.0</td>\n",
       "      <td>1.00</td>\n",
       "      <td>0.260870</td>\n",
       "      <td>0.0</td>\n",
       "      <td>0.0</td>\n",
       "      <td>0.0</td>\n",
       "    </tr>\n",
       "    <tr>\n",
       "      <th>54744</th>\n",
       "      <td>1.0</td>\n",
       "      <td>0.263660</td>\n",
       "      <td>1.0</td>\n",
       "      <td>0.0</td>\n",
       "      <td>0.0</td>\n",
       "      <td>0.000000</td>\n",
       "      <td>0.0</td>\n",
       "      <td>0.0</td>\n",
       "      <td>0.0</td>\n",
       "      <td>0.666667</td>\n",
       "      <td>0.6</td>\n",
       "      <td>0.666667</td>\n",
       "      <td>1.0</td>\n",
       "      <td>1.00</td>\n",
       "      <td>0.304348</td>\n",
       "      <td>1.0</td>\n",
       "      <td>0.0</td>\n",
       "      <td>0.0</td>\n",
       "    </tr>\n",
       "    <tr>\n",
       "      <th>54745</th>\n",
       "      <td>1.0</td>\n",
       "      <td>0.190931</td>\n",
       "      <td>1.0</td>\n",
       "      <td>0.0</td>\n",
       "      <td>0.0</td>\n",
       "      <td>0.233333</td>\n",
       "      <td>0.0</td>\n",
       "      <td>1.0</td>\n",
       "      <td>1.0</td>\n",
       "      <td>0.666667</td>\n",
       "      <td>0.6</td>\n",
       "      <td>0.666667</td>\n",
       "      <td>0.0</td>\n",
       "      <td>0.25</td>\n",
       "      <td>0.217391</td>\n",
       "      <td>1.0</td>\n",
       "      <td>0.0</td>\n",
       "      <td>0.0</td>\n",
       "    </tr>\n",
       "  </tbody>\n",
       "</table>\n",
       "</div>"
      ],
      "text/plain": [
       "       HeartDisease       BMI  Smoking  AlcoholDrinking  Stroke  \\\n",
       "54741           1.0  0.329607      0.0              0.0     1.0   \n",
       "54742           1.0  0.301470      1.0              0.0     0.0   \n",
       "54743           1.0  0.312900      1.0              0.0     0.0   \n",
       "54744           1.0  0.263660      1.0              0.0     0.0   \n",
       "54745           1.0  0.190931      1.0              0.0     0.0   \n",
       "\n",
       "       PhysicalHealth  MentalHealth  DiffWalking  Sex  AgeCategory  Race  \\\n",
       "54741        1.000000           0.5          1.0  0.0     0.583333   0.6   \n",
       "54742        0.000000           0.0          1.0  0.0     0.916667   0.6   \n",
       "54743        0.000000           0.0          0.0  1.0     0.250000   0.6   \n",
       "54744        0.000000           0.0          0.0  0.0     0.666667   0.6   \n",
       "54745        0.233333           0.0          1.0  1.0     0.666667   0.6   \n",
       "\n",
       "       Diabetic  PhysicalActivity  GenHealth  SleepTime  Asthma  \\\n",
       "54741  0.666667               1.0       0.75   0.217391     1.0   \n",
       "54742  0.666667               1.0       0.50   0.304348     0.0   \n",
       "54743  0.000000               1.0       1.00   0.260870     0.0   \n",
       "54744  0.666667               1.0       1.00   0.304348     1.0   \n",
       "54745  0.666667               0.0       0.25   0.217391     1.0   \n",
       "\n",
       "       KidneyDisease  SkinCancer  \n",
       "54741            0.0         0.0  \n",
       "54742            0.0         0.0  \n",
       "54743            0.0         0.0  \n",
       "54744            0.0         0.0  \n",
       "54745            0.0         0.0  "
      ]
     },
     "execution_count": 7,
     "metadata": {},
     "output_type": "execute_result"
    }
   ],
   "source": [
    "from sklearn.preprocessing import MinMaxScaler\n",
    "from sklearn import preprocessing\n",
    "\n",
    "dataFrameValues = dataFrame.values \n",
    "scaler = preprocessing.MinMaxScaler()\n",
    "valueScaled = scaler.fit_transform(dataFrameValues)\n",
    "dataFrame = pd.DataFrame(valueScaled, columns=dataFrame.columns)\n",
    "dataFrame.tail()"
   ]
  },
  {
   "cell_type": "markdown",
   "id": "1ba1f7b4",
   "metadata": {
    "id": "1ba1f7b4"
   },
   "source": [
    "The fit(data) method is used to compute the mean and std dev for a given feature to be used further for scaling.\n",
    "\n",
    "The transform(data) method is used to perform scaling using mean and std dev calculated using the .fit() method.\n",
    "\n",
    "The fit_transform() method does both fits and transform."
   ]
  },
  {
   "cell_type": "markdown",
   "id": "e5b75499",
   "metadata": {
    "id": "e5b75499"
   },
   "source": [
    "## Reducing Features\n",
    "\n",
    "**be aware which features you wanna drop**"
   ]
  },
  {
   "cell_type": "code",
   "execution_count": 11,
   "id": "2431bc0e",
   "metadata": {
    "executionInfo": {
     "elapsed": 25,
     "status": "ok",
     "timestamp": 1668681881811,
     "user": {
      "displayName": "Nicole König",
      "userId": "04945880460600677398"
     },
     "user_tz": -60
    },
    "id": "2431bc0e"
   },
   "outputs": [],
   "source": [
    "#dataFrame = dataFrame.drop(['AlcoholDrinking', 'PhysicalActivity', 'GenHealth', 'SleepTime', 'MentalHealth',  'Race'], axis=1)\n",
    "#dataFrame.tail()"
   ]
  },
  {
   "cell_type": "markdown",
   "id": "209a8f12",
   "metadata": {
    "id": "209a8f12"
   },
   "source": [
    "## Check the Data Quality again\n",
    "### Empty Data Check"
   ]
  },
  {
   "cell_type": "code",
   "execution_count": 12,
   "id": "1ff5ddd8",
   "metadata": {
    "colab": {
     "base_uri": "https://localhost:8080/"
    },
    "executionInfo": {
     "elapsed": 25,
     "status": "ok",
     "timestamp": 1668681881811,
     "user": {
      "displayName": "Nicole König",
      "userId": "04945880460600677398"
     },
     "user_tz": -60
    },
    "id": "1ff5ddd8",
    "outputId": "c2264b15-ac92-4a98-af75-99008959c101"
   },
   "outputs": [
    {
     "data": {
      "text/plain": [
       "HeartDisease        0\n",
       "BMI                 0\n",
       "Smoking             0\n",
       "AlcoholDrinking     0\n",
       "Stroke              0\n",
       "PhysicalHealth      0\n",
       "MentalHealth        0\n",
       "DiffWalking         0\n",
       "Sex                 0\n",
       "AgeCategory         0\n",
       "Race                0\n",
       "Diabetic            0\n",
       "PhysicalActivity    0\n",
       "GenHealth           0\n",
       "SleepTime           0\n",
       "Asthma              0\n",
       "KidneyDisease       0\n",
       "SkinCancer          0\n",
       "dtype: int64"
      ]
     },
     "execution_count": 12,
     "metadata": {},
     "output_type": "execute_result"
    }
   ],
   "source": [
    "pd.options.mode.use_inf_as_na = True\n",
    "dataFrame.isnull().sum()"
   ]
  },
  {
   "cell_type": "markdown",
   "id": "69d69065",
   "metadata": {
    "id": "69d69065"
   },
   "source": [
    "## Zero Values"
   ]
  },
  {
   "cell_type": "code",
   "execution_count": 13,
   "id": "1debad50",
   "metadata": {
    "colab": {
     "base_uri": "https://localhost:8080/"
    },
    "executionInfo": {
     "elapsed": 23,
     "status": "ok",
     "timestamp": 1668681881812,
     "user": {
      "displayName": "Nicole König",
      "userId": "04945880460600677398"
     },
     "user_tz": -60
    },
    "id": "1debad50",
    "outputId": "12249675-d3e0-450d-b4f2-b41ed7429a3e"
   },
   "outputs": [
    {
     "name": "stdout",
     "output_type": "stream",
     "text": [
      "HeartDisease        27373\n",
      "BMI                     1\n",
      "Smoking             27871\n",
      "AlcoholDrinking     51643\n",
      "Stroke              49581\n",
      "PhysicalHealth      34261\n",
      "MentalHealth        35689\n",
      "DiffWalking         41483\n",
      "Sex                 25911\n",
      "AgeCategory          2128\n",
      "Race                  963\n",
      "Diabetic            41139\n",
      "PhysicalActivity    15531\n",
      "GenHealth            7726\n",
      "SleepTime             114\n",
      "Asthma              46215\n",
      "KidneyDisease       50495\n",
      "SkinCancer          47495\n",
      "dtype: int64\n"
     ]
    }
   ],
   "source": [
    "# Display how many 0 values each feature has\n",
    "print((dataFrame == 0).sum())"
   ]
  },
  {
   "cell_type": "markdown",
   "id": "9ac14f96",
   "metadata": {
    "id": "9ac14f96"
   },
   "source": [
    "## Correlation Matrix"
   ]
  },
  {
   "cell_type": "code",
   "execution_count": 14,
   "id": "a81ec251",
   "metadata": {
    "colab": {
     "base_uri": "https://localhost:8080/",
     "height": 206
    },
    "executionInfo": {
     "elapsed": 21,
     "status": "ok",
     "timestamp": 1668681881812,
     "user": {
      "displayName": "Nicole König",
      "userId": "04945880460600677398"
     },
     "user_tz": -60
    },
    "id": "a81ec251",
    "outputId": "54ed8934-6f14-4c41-c829-f0981f2e7548"
   },
   "outputs": [
    {
     "data": {
      "text/html": [
       "\n",
       "  <div id=\"df-0886b6f3-1e08-4c22-8536-2f0d53837dd6\">\n",
       "    <div class=\"colab-df-container\">\n",
       "      <div>\n",
       "<style scoped>\n",
       "    .dataframe tbody tr th:only-of-type {\n",
       "        vertical-align: middle;\n",
       "    }\n",
       "\n",
       "    .dataframe tbody tr th {\n",
       "        vertical-align: top;\n",
       "    }\n",
       "\n",
       "    .dataframe thead th {\n",
       "        text-align: right;\n",
       "    }\n",
       "</style>\n",
       "<table border=\"1\" class=\"dataframe\">\n",
       "  <thead>\n",
       "    <tr style=\"text-align: right;\">\n",
       "      <th></th>\n",
       "      <th>HeartDisease</th>\n",
       "      <th>BMI</th>\n",
       "      <th>Smoking</th>\n",
       "      <th>AlcoholDrinking</th>\n",
       "      <th>Stroke</th>\n",
       "      <th>PhysicalHealth</th>\n",
       "      <th>MentalHealth</th>\n",
       "      <th>DiffWalking</th>\n",
       "      <th>Sex</th>\n",
       "      <th>AgeCategory</th>\n",
       "      <th>Race</th>\n",
       "      <th>Diabetic</th>\n",
       "      <th>PhysicalActivity</th>\n",
       "      <th>GenHealth</th>\n",
       "      <th>SleepTime</th>\n",
       "      <th>Asthma</th>\n",
       "      <th>KidneyDisease</th>\n",
       "      <th>SkinCancer</th>\n",
       "    </tr>\n",
       "  </thead>\n",
       "  <tbody>\n",
       "    <tr>\n",
       "      <th>54741</th>\n",
       "      <td>1.0</td>\n",
       "      <td>0.329607</td>\n",
       "      <td>0.0</td>\n",
       "      <td>0.0</td>\n",
       "      <td>1.0</td>\n",
       "      <td>1.000000</td>\n",
       "      <td>0.5</td>\n",
       "      <td>1.0</td>\n",
       "      <td>0.0</td>\n",
       "      <td>0.583333</td>\n",
       "      <td>0.6</td>\n",
       "      <td>0.666667</td>\n",
       "      <td>1.0</td>\n",
       "      <td>0.75</td>\n",
       "      <td>0.217391</td>\n",
       "      <td>1.0</td>\n",
       "      <td>0.0</td>\n",
       "      <td>0.0</td>\n",
       "    </tr>\n",
       "    <tr>\n",
       "      <th>54742</th>\n",
       "      <td>1.0</td>\n",
       "      <td>0.301470</td>\n",
       "      <td>1.0</td>\n",
       "      <td>0.0</td>\n",
       "      <td>0.0</td>\n",
       "      <td>0.000000</td>\n",
       "      <td>0.0</td>\n",
       "      <td>1.0</td>\n",
       "      <td>0.0</td>\n",
       "      <td>0.916667</td>\n",
       "      <td>0.6</td>\n",
       "      <td>0.666667</td>\n",
       "      <td>1.0</td>\n",
       "      <td>0.50</td>\n",
       "      <td>0.304348</td>\n",
       "      <td>0.0</td>\n",
       "      <td>0.0</td>\n",
       "      <td>0.0</td>\n",
       "    </tr>\n",
       "    <tr>\n",
       "      <th>54743</th>\n",
       "      <td>1.0</td>\n",
       "      <td>0.312900</td>\n",
       "      <td>1.0</td>\n",
       "      <td>0.0</td>\n",
       "      <td>0.0</td>\n",
       "      <td>0.000000</td>\n",
       "      <td>0.0</td>\n",
       "      <td>0.0</td>\n",
       "      <td>1.0</td>\n",
       "      <td>0.250000</td>\n",
       "      <td>0.6</td>\n",
       "      <td>0.000000</td>\n",
       "      <td>1.0</td>\n",
       "      <td>1.00</td>\n",
       "      <td>0.260870</td>\n",
       "      <td>0.0</td>\n",
       "      <td>0.0</td>\n",
       "      <td>0.0</td>\n",
       "    </tr>\n",
       "    <tr>\n",
       "      <th>54744</th>\n",
       "      <td>1.0</td>\n",
       "      <td>0.263660</td>\n",
       "      <td>1.0</td>\n",
       "      <td>0.0</td>\n",
       "      <td>0.0</td>\n",
       "      <td>0.000000</td>\n",
       "      <td>0.0</td>\n",
       "      <td>0.0</td>\n",
       "      <td>0.0</td>\n",
       "      <td>0.666667</td>\n",
       "      <td>0.6</td>\n",
       "      <td>0.666667</td>\n",
       "      <td>1.0</td>\n",
       "      <td>1.00</td>\n",
       "      <td>0.304348</td>\n",
       "      <td>1.0</td>\n",
       "      <td>0.0</td>\n",
       "      <td>0.0</td>\n",
       "    </tr>\n",
       "    <tr>\n",
       "      <th>54745</th>\n",
       "      <td>1.0</td>\n",
       "      <td>0.190931</td>\n",
       "      <td>1.0</td>\n",
       "      <td>0.0</td>\n",
       "      <td>0.0</td>\n",
       "      <td>0.233333</td>\n",
       "      <td>0.0</td>\n",
       "      <td>1.0</td>\n",
       "      <td>1.0</td>\n",
       "      <td>0.666667</td>\n",
       "      <td>0.6</td>\n",
       "      <td>0.666667</td>\n",
       "      <td>0.0</td>\n",
       "      <td>0.25</td>\n",
       "      <td>0.217391</td>\n",
       "      <td>1.0</td>\n",
       "      <td>0.0</td>\n",
       "      <td>0.0</td>\n",
       "    </tr>\n",
       "  </tbody>\n",
       "</table>\n",
       "</div>\n",
       "      <button class=\"colab-df-convert\" onclick=\"convertToInteractive('df-0886b6f3-1e08-4c22-8536-2f0d53837dd6')\"\n",
       "              title=\"Convert this dataframe to an interactive table.\"\n",
       "              style=\"display:none;\">\n",
       "        \n",
       "  <svg xmlns=\"http://www.w3.org/2000/svg\" height=\"24px\"viewBox=\"0 0 24 24\"\n",
       "       width=\"24px\">\n",
       "    <path d=\"M0 0h24v24H0V0z\" fill=\"none\"/>\n",
       "    <path d=\"M18.56 5.44l.94 2.06.94-2.06 2.06-.94-2.06-.94-.94-2.06-.94 2.06-2.06.94zm-11 1L8.5 8.5l.94-2.06 2.06-.94-2.06-.94L8.5 2.5l-.94 2.06-2.06.94zm10 10l.94 2.06.94-2.06 2.06-.94-2.06-.94-.94-2.06-.94 2.06-2.06.94z\"/><path d=\"M17.41 7.96l-1.37-1.37c-.4-.4-.92-.59-1.43-.59-.52 0-1.04.2-1.43.59L10.3 9.45l-7.72 7.72c-.78.78-.78 2.05 0 2.83L4 21.41c.39.39.9.59 1.41.59.51 0 1.02-.2 1.41-.59l7.78-7.78 2.81-2.81c.8-.78.8-2.07 0-2.86zM5.41 20L4 18.59l7.72-7.72 1.47 1.35L5.41 20z\"/>\n",
       "  </svg>\n",
       "      </button>\n",
       "      \n",
       "  <style>\n",
       "    .colab-df-container {\n",
       "      display:flex;\n",
       "      flex-wrap:wrap;\n",
       "      gap: 12px;\n",
       "    }\n",
       "\n",
       "    .colab-df-convert {\n",
       "      background-color: #E8F0FE;\n",
       "      border: none;\n",
       "      border-radius: 50%;\n",
       "      cursor: pointer;\n",
       "      display: none;\n",
       "      fill: #1967D2;\n",
       "      height: 32px;\n",
       "      padding: 0 0 0 0;\n",
       "      width: 32px;\n",
       "    }\n",
       "\n",
       "    .colab-df-convert:hover {\n",
       "      background-color: #E2EBFA;\n",
       "      box-shadow: 0px 1px 2px rgba(60, 64, 67, 0.3), 0px 1px 3px 1px rgba(60, 64, 67, 0.15);\n",
       "      fill: #174EA6;\n",
       "    }\n",
       "\n",
       "    [theme=dark] .colab-df-convert {\n",
       "      background-color: #3B4455;\n",
       "      fill: #D2E3FC;\n",
       "    }\n",
       "\n",
       "    [theme=dark] .colab-df-convert:hover {\n",
       "      background-color: #434B5C;\n",
       "      box-shadow: 0px 1px 3px 1px rgba(0, 0, 0, 0.15);\n",
       "      filter: drop-shadow(0px 1px 2px rgba(0, 0, 0, 0.3));\n",
       "      fill: #FFFFFF;\n",
       "    }\n",
       "  </style>\n",
       "\n",
       "      <script>\n",
       "        const buttonEl =\n",
       "          document.querySelector('#df-0886b6f3-1e08-4c22-8536-2f0d53837dd6 button.colab-df-convert');\n",
       "        buttonEl.style.display =\n",
       "          google.colab.kernel.accessAllowed ? 'block' : 'none';\n",
       "\n",
       "        async function convertToInteractive(key) {\n",
       "          const element = document.querySelector('#df-0886b6f3-1e08-4c22-8536-2f0d53837dd6');\n",
       "          const dataTable =\n",
       "            await google.colab.kernel.invokeFunction('convertToInteractive',\n",
       "                                                     [key], {});\n",
       "          if (!dataTable) return;\n",
       "\n",
       "          const docLinkHtml = 'Like what you see? Visit the ' +\n",
       "            '<a target=\"_blank\" href=https://colab.research.google.com/notebooks/data_table.ipynb>data table notebook</a>'\n",
       "            + ' to learn more about interactive tables.';\n",
       "          element.innerHTML = '';\n",
       "          dataTable['output_type'] = 'display_data';\n",
       "          await google.colab.output.renderOutput(dataTable, element);\n",
       "          const docLink = document.createElement('div');\n",
       "          docLink.innerHTML = docLinkHtml;\n",
       "          element.appendChild(docLink);\n",
       "        }\n",
       "      </script>\n",
       "    </div>\n",
       "  </div>\n",
       "  "
      ],
      "text/plain": [
       "       HeartDisease       BMI  Smoking  AlcoholDrinking  Stroke  \\\n",
       "54741           1.0  0.329607      0.0              0.0     1.0   \n",
       "54742           1.0  0.301470      1.0              0.0     0.0   \n",
       "54743           1.0  0.312900      1.0              0.0     0.0   \n",
       "54744           1.0  0.263660      1.0              0.0     0.0   \n",
       "54745           1.0  0.190931      1.0              0.0     0.0   \n",
       "\n",
       "       PhysicalHealth  MentalHealth  DiffWalking  Sex  AgeCategory  Race  \\\n",
       "54741        1.000000           0.5          1.0  0.0     0.583333   0.6   \n",
       "54742        0.000000           0.0          1.0  0.0     0.916667   0.6   \n",
       "54743        0.000000           0.0          0.0  1.0     0.250000   0.6   \n",
       "54744        0.000000           0.0          0.0  0.0     0.666667   0.6   \n",
       "54745        0.233333           0.0          1.0  1.0     0.666667   0.6   \n",
       "\n",
       "       Diabetic  PhysicalActivity  GenHealth  SleepTime  Asthma  \\\n",
       "54741  0.666667               1.0       0.75   0.217391     1.0   \n",
       "54742  0.666667               1.0       0.50   0.304348     0.0   \n",
       "54743  0.000000               1.0       1.00   0.260870     0.0   \n",
       "54744  0.666667               1.0       1.00   0.304348     1.0   \n",
       "54745  0.666667               0.0       0.25   0.217391     1.0   \n",
       "\n",
       "       KidneyDisease  SkinCancer  \n",
       "54741            0.0         0.0  \n",
       "54742            0.0         0.0  \n",
       "54743            0.0         0.0  \n",
       "54744            0.0         0.0  \n",
       "54745            0.0         0.0  "
      ]
     },
     "execution_count": 14,
     "metadata": {},
     "output_type": "execute_result"
    }
   ],
   "source": [
    "featureLength = len(featureNames)\n",
    "df_features_mean = dataFrame.iloc[:,0:featureLength]\n",
    "df_features_mean.tail()"
   ]
  },
  {
   "cell_type": "markdown",
   "id": "3bc46071",
   "metadata": {
    "id": "3bc46071"
   },
   "source": [
    "=> von Folie \"Developing for AI (AIML) p.39\" übernommen. => Ändert nichts am Output, also wozu?"
   ]
  },
  {
   "cell_type": "code",
   "execution_count": 15,
   "id": "94a97c1e",
   "metadata": {
    "colab": {
     "base_uri": "https://localhost:8080/",
     "height": 936
    },
    "executionInfo": {
     "elapsed": 2189,
     "status": "ok",
     "timestamp": 1668681883981,
     "user": {
      "displayName": "Nicole König",
      "userId": "04945880460600677398"
     },
     "user_tz": -60
    },
    "id": "94a97c1e",
    "outputId": "bdbd4072-c041-4ca6-ef25-7b3effb96480"
   },
   "outputs": [
    {
     "data": {
      "image/png": "[encoded data removed]",
      "text/plain": [
       "<Figure size 1080x1080 with 2 Axes>"
      ]
     },
     "metadata": {
      "needs_background": "light"
     },
     "output_type": "display_data"
    }
   ],
   "source": [
    "xd = dataFrame[featureNames]\n",
    "yd = dataFrame[label]\n",
    "\n",
    "sns.heatmap(\n",
    "    data=df_features_mean.corr(),\n",
    "    annot=True,\n",
    "    fmt='.2f',\n",
    "    cmap='coolwarm'\n",
    ")\n",
    "\n",
    "fig = plt.gcf()\n",
    "fig.set_size_inches(15, 15)\n",
    "\n",
    "plt.show()"
   ]
  },
  {
   "cell_type": "markdown",
   "id": "f0869bcf",
   "metadata": {
    "id": "f0869bcf"
   },
   "source": [
    "# ALGORITHMS\n",
    "\n",
    "## <mark>Splitting Into Test & Training Data</mark>"
   ]
  },
  {
   "cell_type": "code",
   "execution_count": 8,
   "id": "d18ea11c",
   "metadata": {
    "colab": {
     "base_uri": "https://localhost:8080/"
    },
    "executionInfo": {
     "elapsed": 16,
     "status": "ok",
     "timestamp": 1668681883982,
     "user": {
      "displayName": "Nicole König",
      "userId": "04945880460600677398"
     },
     "user_tz": -60
    },
    "id": "d18ea11c",
    "outputId": "2e9257d2-c79c-4e7c-fc86-28a330e45534"
   },
   "outputs": [
    {
     "data": {
      "text/plain": [
       "array([[0.38738852, 0.        , 0.        , ..., 0.        , 0.        ,\n",
       "        0.        ],\n",
       "       [0.38638362, 1.        , 0.        , ..., 1.        , 0.        ,\n",
       "        0.        ],\n",
       "       [0.18728803, 0.        , 0.        , ..., 0.        , 0.        ,\n",
       "        0.        ],\n",
       "       ...,\n",
       "       [0.14470544, 1.        , 0.        , ..., 0.        , 0.        ,\n",
       "        0.        ],\n",
       "       [0.38286647, 1.        , 0.        , ..., 0.        , 0.        ,\n",
       "        0.        ],\n",
       "       [0.23238287, 1.        , 0.        , ..., 1.        , 0.        ,\n",
       "        0.        ]])"
      ]
     },
     "execution_count": 8,
     "metadata": {},
     "output_type": "execute_result"
    }
   ],
   "source": [
    "from sklearn.model_selection import train_test_split\n",
    "\n",
    "X = dataFrame.drop(label, axis=1).values #Feature Values\n",
    "y = dataFrame[label].values #heartDiseaseValues\n",
    "\n",
    "np.random.seed(41)\n",
    "X_train, X_test, y_train, y_test = train_test_split(X, y, test_size=0.2)\n",
    "X_train"
   ]
  },
  {
   "cell_type": "code",
   "execution_count": 17,
   "id": "d129a624",
   "metadata": {
    "colab": {
     "base_uri": "https://localhost:8080/"
    },
    "executionInfo": {
     "elapsed": 11,
     "status": "ok",
     "timestamp": 1668681883982,
     "user": {
      "displayName": "Nicole König",
      "userId": "04945880460600677398"
     },
     "user_tz": -60
    },
    "id": "d129a624",
    "outputId": "9cf259ed-9a5d-4cf4-b160-58f443e9fb75"
   },
   "outputs": [
    {
     "name": "stdout",
     "output_type": "stream",
     "text": [
      "(43796, 17)\n",
      "(43796,)\n",
      "(10950, 17)\n",
      "(10950,)\n"
     ]
    }
   ],
   "source": [
    "print(X_train.shape)\n",
    "print(y_train.shape)\n",
    "print(X_test.shape)\n",
    "print(y_test.shape)"
   ]
  },
  {
   "cell_type": "markdown",
   "id": "055bc7b1",
   "metadata": {
    "id": "055bc7b1"
   },
   "source": [
    "## Algorithms with Overfitting Check"
   ]
  },
  {
   "cell_type": "markdown",
   "id": "8c6ad7f8",
   "metadata": {
    "id": "8c6ad7f8"
   },
   "source": [
    "## KNN Overfitting Check failed"
   ]
  },
  {
   "cell_type": "code",
   "execution_count": 18,
   "id": "11afa749",
   "metadata": {
    "colab": {
     "base_uri": "https://localhost:8080/",
     "height": 381
    },
    "collapsed": true,
    "executionInfo": {
     "elapsed": 10607,
     "status": "error",
     "timestamp": 1668681894580,
     "user": {
      "displayName": "Nicole König",
      "userId": "04945880460600677398"
     },
     "user_tz": -60
    },
    "id": "11afa749",
    "outputId": "373c82db-22de-488f-b7d2-3ff9769584ad"
   },
   "outputs": [
    {
     "ename": "KeyboardInterrupt",
     "evalue": "ignored",
     "output_type": "error",
     "traceback": [
      "\u001b[0;31m---------------------------------------------------------------------------\u001b[0m",
      "\u001b[0;31mKeyboardInterrupt\u001b[0m                         Traceback (most recent call last)",
      "\u001b[0;32m<ipython-input-18-4d16f5e6d6b1>\u001b[0m in \u001b[0;36m<module>\u001b[0;34m\u001b[0m\n\u001b[1;32m     10\u001b[0m     \u001b[0mknn\u001b[0m\u001b[0;34m.\u001b[0m\u001b[0mfit\u001b[0m\u001b[0;34m(\u001b[0m\u001b[0mX_train\u001b[0m\u001b[0;34m,\u001b[0m \u001b[0my_train\u001b[0m\u001b[0;34m)\u001b[0m\u001b[0;34m\u001b[0m\u001b[0;34m\u001b[0m\u001b[0m\n\u001b[1;32m     11\u001b[0m \u001b[0;34m\u001b[0m\u001b[0m\n\u001b[0;32m---> 12\u001b[0;31m     \u001b[0mtrainPrediction\u001b[0m \u001b[0;34m=\u001b[0m \u001b[0mknn\u001b[0m\u001b[0;34m.\u001b[0m\u001b[0mpredict\u001b[0m\u001b[0;34m(\u001b[0m\u001b[0mX_train\u001b[0m\u001b[0;34m)\u001b[0m\u001b[0;34m\u001b[0m\u001b[0;34m\u001b[0m\u001b[0m\n\u001b[0m\u001b[1;32m     13\u001b[0m     \u001b[0mtrainAccuracy\u001b[0m \u001b[0;34m=\u001b[0m \u001b[0maccuracy_score\u001b[0m\u001b[0;34m(\u001b[0m\u001b[0my_train\u001b[0m\u001b[0;34m,\u001b[0m \u001b[0mtrainPrediction\u001b[0m\u001b[0;34m)\u001b[0m\u001b[0;34m\u001b[0m\u001b[0;34m\u001b[0m\u001b[0m\n\u001b[1;32m     14\u001b[0m     \u001b[0mtrainScores\u001b[0m\u001b[0;34m.\u001b[0m\u001b[0mappend\u001b[0m\u001b[0;34m(\u001b[0m\u001b[0mtrainAccuracy\u001b[0m\u001b[0;34m)\u001b[0m\u001b[0;34m\u001b[0m\u001b[0;34m\u001b[0m\u001b[0m\n",
      "\u001b[0;32m/usr/local/lib/python3.7/dist-packages/sklearn/neighbors/_classification.py\u001b[0m in \u001b[0;36mpredict\u001b[0;34m(self, X)\u001b[0m\n\u001b[1;32m    212\u001b[0m             \u001b[0mClass\u001b[0m \u001b[0mlabels\u001b[0m \u001b[0;32mfor\u001b[0m \u001b[0meach\u001b[0m \u001b[0mdata\u001b[0m \u001b[0msample\u001b[0m\u001b[0;34m.\u001b[0m\u001b[0;34m\u001b[0m\u001b[0;34m\u001b[0m\u001b[0m\n\u001b[1;32m    213\u001b[0m         \"\"\"\n\u001b[0;32m--> 214\u001b[0;31m         \u001b[0mneigh_dist\u001b[0m\u001b[0;34m,\u001b[0m \u001b[0mneigh_ind\u001b[0m \u001b[0;34m=\u001b[0m \u001b[0mself\u001b[0m\u001b[0;34m.\u001b[0m\u001b[0mkneighbors\u001b[0m\u001b[0;34m(\u001b[0m\u001b[0mX\u001b[0m\u001b[0;34m)\u001b[0m\u001b[0;34m\u001b[0m\u001b[0;34m\u001b[0m\u001b[0m\n\u001b[0m\u001b[1;32m    215\u001b[0m         \u001b[0mclasses_\u001b[0m \u001b[0;34m=\u001b[0m \u001b[0mself\u001b[0m\u001b[0;34m.\u001b[0m\u001b[0mclasses_\u001b[0m\u001b[0;34m\u001b[0m\u001b[0;34m\u001b[0m\u001b[0m\n\u001b[1;32m    216\u001b[0m         \u001b[0m_y\u001b[0m \u001b[0;34m=\u001b[0m \u001b[0mself\u001b[0m\u001b[0;34m.\u001b[0m\u001b[0m_y\u001b[0m\u001b[0;34m\u001b[0m\u001b[0;34m\u001b[0m\u001b[0m\n",
      "\u001b[0;32m/usr/local/lib/python3.7/dist-packages/sklearn/neighbors/_base.py\u001b[0m in \u001b[0;36mkneighbors\u001b[0;34m(self, X, n_neighbors, return_distance)\u001b[0m\n\u001b[1;32m    757\u001b[0m                     \u001b[0mmetric\u001b[0m\u001b[0;34m=\u001b[0m\u001b[0mself\u001b[0m\u001b[0;34m.\u001b[0m\u001b[0meffective_metric_\u001b[0m\u001b[0;34m,\u001b[0m\u001b[0;34m\u001b[0m\u001b[0;34m\u001b[0m\u001b[0m\n\u001b[1;32m    758\u001b[0m                     \u001b[0mn_jobs\u001b[0m\u001b[0;34m=\u001b[0m\u001b[0mn_jobs\u001b[0m\u001b[0;34m,\u001b[0m\u001b[0;34m\u001b[0m\u001b[0;34m\u001b[0m\u001b[0m\n\u001b[0;32m--> 759\u001b[0;31m                     \u001b[0;34m**\u001b[0m\u001b[0mkwds\u001b[0m\u001b[0;34m,\u001b[0m\u001b[0;34m\u001b[0m\u001b[0;34m\u001b[0m\u001b[0m\n\u001b[0m\u001b[1;32m    760\u001b[0m                 )\n\u001b[1;32m    761\u001b[0m             )\n",
      "\u001b[0;32m/usr/local/lib/python3.7/dist-packages/sklearn/metrics/pairwise.py\u001b[0m in \u001b[0;36mpairwise_distances_chunked\u001b[0;34m(X, Y, reduce_func, metric, n_jobs, working_memory, **kwds)\u001b[0m\n\u001b[1;32m   1715\u001b[0m         \u001b[0;32melse\u001b[0m\u001b[0;34m:\u001b[0m\u001b[0;34m\u001b[0m\u001b[0;34m\u001b[0m\u001b[0m\n\u001b[1;32m   1716\u001b[0m             \u001b[0mX_chunk\u001b[0m \u001b[0;34m=\u001b[0m \u001b[0mX\u001b[0m\u001b[0;34m[\u001b[0m\u001b[0msl\u001b[0m\u001b[0;34m]\u001b[0m\u001b[0;34m\u001b[0m\u001b[0;34m\u001b[0m\u001b[0m\n\u001b[0;32m-> 1717\u001b[0;31m         \u001b[0mD_chunk\u001b[0m \u001b[0;34m=\u001b[0m \u001b[0mpairwise_distances\u001b[0m\u001b[0;34m(\u001b[0m\u001b[0mX_chunk\u001b[0m\u001b[0;34m,\u001b[0m \u001b[0mY\u001b[0m\u001b[0;34m,\u001b[0m \u001b[0mmetric\u001b[0m\u001b[0;34m=\u001b[0m\u001b[0mmetric\u001b[0m\u001b[0;34m,\u001b[0m \u001b[0mn_jobs\u001b[0m\u001b[0;34m=\u001b[0m\u001b[0mn_jobs\u001b[0m\u001b[0;34m,\u001b[0m \u001b[0;34m**\u001b[0m\u001b[0mkwds\u001b[0m\u001b[0;34m)\u001b[0m\u001b[0;34m\u001b[0m\u001b[0;34m\u001b[0m\u001b[0m\n\u001b[0m\u001b[1;32m   1718\u001b[0m         if (X is Y or Y is None) and PAIRWISE_DISTANCE_FUNCTIONS.get(\n\u001b[1;32m   1719\u001b[0m             \u001b[0mmetric\u001b[0m\u001b[0;34m,\u001b[0m \u001b[0;32mNone\u001b[0m\u001b[0;34m\u001b[0m\u001b[0;34m\u001b[0m\u001b[0m\n",
      "\u001b[0;32m/usr/local/lib/python3.7/dist-packages/sklearn/metrics/pairwise.py\u001b[0m in \u001b[0;36mpairwise_distances\u001b[0;34m(X, Y, metric, n_jobs, force_all_finite, **kwds)\u001b[0m\n\u001b[1;32m   1887\u001b[0m         \u001b[0mfunc\u001b[0m \u001b[0;34m=\u001b[0m \u001b[0mpartial\u001b[0m\u001b[0;34m(\u001b[0m\u001b[0mdistance\u001b[0m\u001b[0;34m.\u001b[0m\u001b[0mcdist\u001b[0m\u001b[0;34m,\u001b[0m \u001b[0mmetric\u001b[0m\u001b[0;34m=\u001b[0m\u001b[0mmetric\u001b[0m\u001b[0;34m,\u001b[0m \u001b[0;34m**\u001b[0m\u001b[0mkwds\u001b[0m\u001b[0;34m)\u001b[0m\u001b[0;34m\u001b[0m\u001b[0;34m\u001b[0m\u001b[0m\n\u001b[1;32m   1888\u001b[0m \u001b[0;34m\u001b[0m\u001b[0m\n\u001b[0;32m-> 1889\u001b[0;31m     \u001b[0;32mreturn\u001b[0m \u001b[0m_parallel_pairwise\u001b[0m\u001b[0;34m(\u001b[0m\u001b[0mX\u001b[0m\u001b[0;34m,\u001b[0m \u001b[0mY\u001b[0m\u001b[0;34m,\u001b[0m \u001b[0mfunc\u001b[0m\u001b[0;34m,\u001b[0m \u001b[0mn_jobs\u001b[0m\u001b[0;34m,\u001b[0m \u001b[0;34m**\u001b[0m\u001b[0mkwds\u001b[0m\u001b[0;34m)\u001b[0m\u001b[0;34m\u001b[0m\u001b[0;34m\u001b[0m\u001b[0m\n\u001b[0m\u001b[1;32m   1890\u001b[0m \u001b[0;34m\u001b[0m\u001b[0m\n\u001b[1;32m   1891\u001b[0m \u001b[0;34m\u001b[0m\u001b[0m\n",
      "\u001b[0;32m/usr/local/lib/python3.7/dist-packages/sklearn/metrics/pairwise.py\u001b[0m in \u001b[0;36m_parallel_pairwise\u001b[0;34m(X, Y, func, n_jobs, **kwds)\u001b[0m\n\u001b[1;32m   1428\u001b[0m \u001b[0;34m\u001b[0m\u001b[0m\n\u001b[1;32m   1429\u001b[0m     \u001b[0;32mif\u001b[0m \u001b[0meffective_n_jobs\u001b[0m\u001b[0;34m(\u001b[0m\u001b[0mn_jobs\u001b[0m\u001b[0;34m)\u001b[0m \u001b[0;34m==\u001b[0m \u001b[0;36m1\u001b[0m\u001b[0;34m:\u001b[0m\u001b[0;34m\u001b[0m\u001b[0;34m\u001b[0m\u001b[0m\n\u001b[0;32m-> 1430\u001b[0;31m         \u001b[0;32mreturn\u001b[0m \u001b[0mfunc\u001b[0m\u001b[0;34m(\u001b[0m\u001b[0mX\u001b[0m\u001b[0;34m,\u001b[0m \u001b[0mY\u001b[0m\u001b[0;34m,\u001b[0m \u001b[0;34m**\u001b[0m\u001b[0mkwds\u001b[0m\u001b[0;34m)\u001b[0m\u001b[0;34m\u001b[0m\u001b[0;34m\u001b[0m\u001b[0m\n\u001b[0m\u001b[1;32m   1431\u001b[0m \u001b[0;34m\u001b[0m\u001b[0m\n\u001b[1;32m   1432\u001b[0m     \u001b[0;31m# enforce a threading backend to prevent data communication overhead\u001b[0m\u001b[0;34m\u001b[0m\u001b[0;34m\u001b[0m\u001b[0;34m\u001b[0m\u001b[0m\n",
      "\u001b[0;32m/usr/local/lib/python3.7/dist-packages/sklearn/metrics/pairwise.py\u001b[0m in \u001b[0;36meuclidean_distances\u001b[0;34m(X, Y, Y_norm_squared, squared, X_norm_squared)\u001b[0m\n\u001b[1;32m    328\u001b[0m             )\n\u001b[1;32m    329\u001b[0m \u001b[0;34m\u001b[0m\u001b[0m\n\u001b[0;32m--> 330\u001b[0;31m     \u001b[0;32mreturn\u001b[0m \u001b[0m_euclidean_distances\u001b[0m\u001b[0;34m(\u001b[0m\u001b[0mX\u001b[0m\u001b[0;34m,\u001b[0m \u001b[0mY\u001b[0m\u001b[0;34m,\u001b[0m \u001b[0mX_norm_squared\u001b[0m\u001b[0;34m,\u001b[0m \u001b[0mY_norm_squared\u001b[0m\u001b[0;34m,\u001b[0m \u001b[0msquared\u001b[0m\u001b[0;34m)\u001b[0m\u001b[0;34m\u001b[0m\u001b[0;34m\u001b[0m\u001b[0m\n\u001b[0m\u001b[1;32m    331\u001b[0m \u001b[0;34m\u001b[0m\u001b[0m\n\u001b[1;32m    332\u001b[0m \u001b[0;34m\u001b[0m\u001b[0m\n",
      "\u001b[0;32m/usr/local/lib/python3.7/dist-packages/sklearn/metrics/pairwise.py\u001b[0m in \u001b[0;36m_euclidean_distances\u001b[0;34m(X, Y, X_norm_squared, Y_norm_squared, squared)\u001b[0m\n\u001b[1;32m    369\u001b[0m     \u001b[0;32melse\u001b[0m\u001b[0;34m:\u001b[0m\u001b[0;34m\u001b[0m\u001b[0;34m\u001b[0m\u001b[0m\n\u001b[1;32m    370\u001b[0m         \u001b[0;31m# if dtype is already float64, no need to chunk and upcast\u001b[0m\u001b[0;34m\u001b[0m\u001b[0;34m\u001b[0m\u001b[0;34m\u001b[0m\u001b[0m\n\u001b[0;32m--> 371\u001b[0;31m         \u001b[0mdistances\u001b[0m \u001b[0;34m=\u001b[0m \u001b[0;34m-\u001b[0m\u001b[0;36m2\u001b[0m \u001b[0;34m*\u001b[0m \u001b[0msafe_sparse_dot\u001b[0m\u001b[0;34m(\u001b[0m\u001b[0mX\u001b[0m\u001b[0;34m,\u001b[0m \u001b[0mY\u001b[0m\u001b[0;34m.\u001b[0m\u001b[0mT\u001b[0m\u001b[0;34m,\u001b[0m \u001b[0mdense_output\u001b[0m\u001b[0;34m=\u001b[0m\u001b[0;32mTrue\u001b[0m\u001b[0;34m)\u001b[0m\u001b[0;34m\u001b[0m\u001b[0;34m\u001b[0m\u001b[0m\n\u001b[0m\u001b[1;32m    372\u001b[0m         \u001b[0mdistances\u001b[0m \u001b[0;34m+=\u001b[0m \u001b[0mXX\u001b[0m\u001b[0;34m\u001b[0m\u001b[0;34m\u001b[0m\u001b[0m\n\u001b[1;32m    373\u001b[0m         \u001b[0mdistances\u001b[0m \u001b[0;34m+=\u001b[0m \u001b[0mYY\u001b[0m\u001b[0;34m\u001b[0m\u001b[0;34m\u001b[0m\u001b[0m\n",
      "\u001b[0;32m/usr/local/lib/python3.7/dist-packages/sklearn/utils/extmath.py\u001b[0m in \u001b[0;36msafe_sparse_dot\u001b[0;34m(a, b, dense_output)\u001b[0m\n\u001b[1;32m    151\u001b[0m             \u001b[0mret\u001b[0m \u001b[0;34m=\u001b[0m \u001b[0mnp\u001b[0m\u001b[0;34m.\u001b[0m\u001b[0mdot\u001b[0m\u001b[0;34m(\u001b[0m\u001b[0ma\u001b[0m\u001b[0;34m,\u001b[0m \u001b[0mb\u001b[0m\u001b[0;34m)\u001b[0m\u001b[0;34m\u001b[0m\u001b[0;34m\u001b[0m\u001b[0m\n\u001b[1;32m    152\u001b[0m     \u001b[0;32melse\u001b[0m\u001b[0;34m:\u001b[0m\u001b[0;34m\u001b[0m\u001b[0;34m\u001b[0m\u001b[0m\n\u001b[0;32m--> 153\u001b[0;31m         \u001b[0mret\u001b[0m \u001b[0;34m=\u001b[0m \u001b[0ma\u001b[0m \u001b[0;34m@\u001b[0m \u001b[0mb\u001b[0m\u001b[0;34m\u001b[0m\u001b[0;34m\u001b[0m\u001b[0m\n\u001b[0m\u001b[1;32m    154\u001b[0m \u001b[0;34m\u001b[0m\u001b[0m\n\u001b[1;32m    155\u001b[0m     if (\n",
      "\u001b[0;31mKeyboardInterrupt\u001b[0m: "
     ]
    }
   ],
   "source": [
    "from sklearn.neighbors import KNeighborsClassifier\n",
    "from sklearn.metrics import accuracy_score\n",
    "from matplotlib import pyplot\n",
    "\n",
    "trainScores, testScores = list(), list()\n",
    "neighbours = [i for i in range(1, 15)]\n",
    "\n",
    "for i in neighbours:\n",
    "    knn = KNeighborsClassifier(n_neighbors=i)\n",
    "    knn.fit(X_train, y_train)\n",
    "    \n",
    "    trainPrediction = knn.predict(X_train)\n",
    "    trainAccuracy = accuracy_score(y_train, trainPrediction)\n",
    "    trainScores.append(trainAccuracy)\n",
    "    \n",
    "    testPrediction = knn.predict(X_test)\n",
    "    testAccuracy = accuracy_score(y_test, testPrediction)\n",
    "    testScores.append(testAccuracy)\n",
    "    print('>%d, train: %.3f, test: %.3f' % (i, trainAccuracy, testAccuracy))\n",
    "    \n",
    "pyplot.plot(neighbours, trainScores, '-o', label='Train')\n",
    "pyplot.plot(neighbours, testScores, '-o', label='Test')\n",
    "pyplot.legend()\n",
    "pyplot.show()"
   ]
  },
  {
   "cell_type": "markdown",
   "id": "07891ccf",
   "metadata": {
    "id": "07891ccf"
   },
   "source": [
    "=> An Overfitting Analysis like this with KNN is inappropriate, according to \n",
    "\n",
    "https://machinelearningmastery.com/overfitting-machine-learning-models#attachment_11578"
   ]
  },
  {
   "cell_type": "markdown",
   "id": "1c6b5056",
   "metadata": {
    "id": "1c6b5056"
   },
   "source": [
    "## KNN with Cross-Validation ~73%"
   ]
  },
  {
   "cell_type": "code",
   "execution_count": 19,
   "id": "2180ab2a",
   "metadata": {
    "colab": {
     "base_uri": "https://localhost:8080/"
    },
    "executionInfo": {
     "elapsed": 27938,
     "status": "ok",
     "timestamp": 1668681928398,
     "user": {
      "displayName": "Nicole König",
      "userId": "04945880460600677398"
     },
     "user_tz": -60
    },
    "id": "2180ab2a",
    "outputId": "bb58529b-2dd8-4572-9aa2-91b74927cebb"
   },
   "outputs": [
    {
     "name": "stdout",
     "output_type": "stream",
     "text": [
      "Accuracy: 72.98 (+/- 0.01)\n"
     ]
    }
   ],
   "source": [
    "from sklearn.neighbors import KNeighborsClassifier\n",
    "from sklearn.model_selection import cross_val_score\n",
    "\n",
    "knn = KNeighborsClassifier()\n",
    "scores = cross_val_score(knn, X_train, y_train, cv = 5) # cv = number of folds, default: 5\n",
    "print(\"Accuracy: %0.2f (+/- %0.2f)\" % (scores.mean()*100, scores.std() * 2))"
   ]
  },
  {
   "cell_type": "markdown",
   "id": "6d9957aa",
   "metadata": {
    "id": "6d9957aa"
   },
   "source": [
    "### Confusion Matrix\n",
    "More detailed Evaluation of the Accuracy"
   ]
  },
  {
   "cell_type": "code",
   "execution_count": 20,
   "id": "57238853",
   "metadata": {
    "colab": {
     "base_uri": "https://localhost:8080/"
    },
    "executionInfo": {
     "elapsed": 8726,
     "status": "ok",
     "timestamp": 1668681937119,
     "user": {
      "displayName": "Nicole König",
      "userId": "04945880460600677398"
     },
     "user_tz": -60
    },
    "id": "57238853",
    "outputId": "e581552e-eeb6-4fdf-a352-5fe2070d8b9a"
   },
   "outputs": [
    {
     "name": "stdout",
     "output_type": "stream",
     "text": [
      "True negatives: 3942, False positives: 1549, False negatives: 1397, True positives: 4062\n",
      "              precision    recall  f1-score   support\n",
      "\n",
      "         0.0       0.74      0.72      0.73      5491\n",
      "         1.0       0.72      0.74      0.73      5459\n",
      "\n",
      "    accuracy                           0.73     10950\n",
      "   macro avg       0.73      0.73      0.73     10950\n",
      "weighted avg       0.73      0.73      0.73     10950\n",
      "\n"
     ]
    }
   ],
   "source": [
    "from sklearn import metrics\n",
    "from sklearn.metrics import classification_report\n",
    "\n",
    "knn = KNeighborsClassifier()\n",
    "knn.fit(X_train, y_train)\n",
    "testPrediction = knn.predict(X_test)\n",
    "\n",
    "conf_matrix = metrics.confusion_matrix(y_test, testPrediction)\n",
    "\n",
    "tn, fp, fn, tp = conf_matrix.ravel()\n",
    "print(f\"True negatives: {tn}, False positives: {fp}, False negatives: {fn}, True positives: {tp}\")\n",
    "print(classification_report(y_test, testPrediction))"
   ]
  },
  {
   "cell_type": "markdown",
   "id": "6fd05175",
   "metadata": {
    "id": "6fd05175"
   },
   "source": [
    "Explanation of the report, copy pasted from the slides:\n",
    "\n",
    "Precision: proportion of true positives among instances classified as positive, e.g.\n",
    "the proportion of Iris virginica correctly identified as Iris virginica.\n",
    "\n",
    "Recall: proportion of true positives among all positive instances in the data, e.g. the\n",
    "number of sick among all diagnosed as sick.\n",
    "\n",
    "F-1: weighted harmonic mean of precision and recall.\n"
   ]
  },
  {
   "cell_type": "markdown",
   "id": "d5743c57",
   "metadata": {
    "id": "d5743c57"
   },
   "source": [
    "## Logistic Regression ~75%"
   ]
  },
  {
   "cell_type": "code",
   "execution_count": 21,
   "id": "899d9d8d",
   "metadata": {
    "colab": {
     "base_uri": "https://localhost:8080/",
     "height": 352
    },
    "executionInfo": {
     "elapsed": 2542,
     "status": "ok",
     "timestamp": 1668681939644,
     "user": {
      "displayName": "Nicole König",
      "userId": "04945880460600677398"
     },
     "user_tz": -60
    },
    "id": "899d9d8d",
    "outputId": "1fdaa5f9-5d71-476f-df4e-2491576ec829"
   },
   "outputs": [
    {
     "name": "stdout",
     "output_type": "stream",
     "text": [
      ">10, train: 75.000, test: 74.941\n",
      ">20, train: 75.135, test: 75.388\n"
     ]
    },
    {
     "data": {
      "image/png": "[encoded data removed]",
      "text/plain": [
       "<Figure size 432x288 with 1 Axes>"
      ]
     },
     "metadata": {
      "needs_background": "light"
     },
     "output_type": "display_data"
    },
    {
     "name": "stdout",
     "output_type": "stream",
     "text": [
      "The point of NO overfitting is not existent? Stop iteration anyway at 20\n",
      "Score:\n",
      "75.38812785388129\n"
     ]
    }
   ],
   "source": [
    "from sklearn.linear_model import LogisticRegression\n",
    "from sklearn.metrics import accuracy_score\n",
    "from matplotlib import pyplot\n",
    "\n",
    "trainScores, testScores = list(), list()\n",
    "treeDepths = [i for i in range(1, 21)]\n",
    "\n",
    "for i in treeDepths:\n",
    "    model = LogisticRegression(max_iter=i)\n",
    "    model.fit(X_train, y_train)\n",
    "    \n",
    "    trainPrediction = model.predict(X_train)\n",
    "    trainAccuracy = accuracy_score(y_train, trainPrediction) * 100\n",
    "    trainScores.append(trainAccuracy)\n",
    "    \n",
    "    testPrediction = model.predict(X_test)\n",
    "    testAccuracy = accuracy_score(y_test, testPrediction) * 100\n",
    "    testScores.append(testAccuracy)\n",
    "    \n",
    "    if i % 10 == 0: print('>%d, train: %.3f, test: %.3f' % (i, trainAccuracy, testAccuracy))\n",
    "\n",
    "pyplot.plot(treeDepths, trainScores, '-o', label='Train')\n",
    "pyplot.plot(treeDepths, testScores, '-o', label='Test')\n",
    "pyplot.legend()\n",
    "pyplot.show()\n",
    "\n",
    "print(\"The point of NO overfitting is not existent? Stop iteration anyway at 20\")\n",
    "print(\"Score:\")\n",
    "print(model.score(X_test, y_test)*100)"
   ]
  },
  {
   "cell_type": "markdown",
   "id": "1cb62985",
   "metadata": {
    "id": "1cb62985"
   },
   "source": [
    "## Random Forest Classifier ~76%"
   ]
  },
  {
   "cell_type": "code",
   "execution_count": 22,
   "id": "97e487e7",
   "metadata": {
    "colab": {
     "base_uri": "https://localhost:8080/",
     "height": 439
    },
    "executionInfo": {
     "elapsed": 17152,
     "status": "ok",
     "timestamp": 1668681956789,
     "user": {
      "displayName": "Nicole König",
      "userId": "04945880460600677398"
     },
     "user_tz": -60
    },
    "id": "97e487e7",
    "outputId": "c1e9dea2-c4d8-4237-c097-dab8c11f0409"
   },
   "outputs": [
    {
     "name": "stdout",
     "output_type": "stream",
     "text": [
      ">1, train: 73.020, test: 73.324\n",
      ">2, train: 73.587, test: 73.826\n",
      ">3, train: 74.566, test: 75.032\n",
      ">4, train: 75.452, test: 75.662\n",
      ">5, train: 75.358, test: 75.653\n",
      ">6, train: 76.037, test: 76.082\n",
      ">7, train: 76.470, test: 76.402\n"
     ]
    },
    {
     "data": {
      "image/png": "[encoded data removed]",
      "text/plain": [
       "<Figure size 432x288 with 1 Axes>"
      ]
     },
     "metadata": {
      "needs_background": "light"
     },
     "output_type": "display_data"
    },
    {
     "name": "stdout",
     "output_type": "stream",
     "text": [
      "The point of NO overfitting is 7\n",
      "Score:\n",
      "76.40182648401826\n"
     ]
    }
   ],
   "source": [
    "from sklearn.ensemble import RandomForestClassifier\n",
    "from sklearn.metrics import accuracy_score\n",
    "from matplotlib import pyplot\n",
    "\n",
    "trainScores, testScores = list(), list()\n",
    "treeDepths = [i for i in range(1, 8)]\n",
    "\n",
    "for i in treeDepths:\n",
    "    model = RandomForestClassifier(max_depth=i)\n",
    "    model.fit(X_train, y_train)\n",
    "    \n",
    "    trainPrediction = model.predict(X_train)\n",
    "    trainAccuracy = accuracy_score(y_train, trainPrediction) * 100\n",
    "    trainScores.append(trainAccuracy)\n",
    "    \n",
    "    testPrediction = model.predict(X_test)\n",
    "    testAccuracy = accuracy_score(y_test, testPrediction) * 100\n",
    "    testScores.append(testAccuracy)\n",
    "    \n",
    "    print('>%d, train: %.3f, test: %.3f' % (i, trainAccuracy, testAccuracy))\n",
    "\n",
    "pyplot.plot(treeDepths, trainScores, '-o', label='Train')\n",
    "pyplot.plot(treeDepths, testScores, '-o', label='Test')\n",
    "pyplot.legend()\n",
    "pyplot.show()\n",
    "\n",
    "print(\"The point of NO overfitting is 7\")\n",
    "print(\"Score:\")\n",
    "print(model.score(X_test, y_test)*100)"
   ]
  },
  {
   "cell_type": "markdown",
   "id": "a3795b3a",
   "metadata": {
    "id": "a3795b3a"
   },
   "source": [
    "## Decision Tree Classifier ~75%"
   ]
  },
  {
   "cell_type": "code",
   "execution_count": 23,
   "id": "adc51dc9",
   "metadata": {
    "colab": {
     "base_uri": "https://localhost:8080/",
     "height": 456
    },
    "executionInfo": {
     "elapsed": 1542,
     "status": "ok",
     "timestamp": 1668681958326,
     "user": {
      "displayName": "Nicole König",
      "userId": "04945880460600677398"
     },
     "user_tz": -60
    },
    "id": "adc51dc9",
    "outputId": "bd0b254b-42fa-4c46-d606-019d6afc0687"
   },
   "outputs": [
    {
     "name": "stdout",
     "output_type": "stream",
     "text": [
      ">1, train: 67.858, test: 68.904\n",
      ">2, train: 71.077, test: 72.000\n",
      ">3, train: 71.986, test: 72.219\n",
      ">4, train: 74.180, test: 74.155\n",
      ">5, train: 74.493, test: 74.658\n",
      ">6, train: 75.080, test: 75.187\n",
      ">7, train: 75.448, test: 75.196\n",
      ">8, train: 76.338, test: 75.799\n"
     ]
    },
    {
     "data": {
      "image/png": "[encoded data removed]",
      "text/plain": [
       "<Figure size 432x288 with 1 Axes>"
      ]
     },
     "metadata": {
      "needs_background": "light"
     },
     "output_type": "display_data"
    },
    {
     "name": "stdout",
     "output_type": "stream",
     "text": [
      "The point of NO overfitting is 8\n",
      "Score:\n",
      "75.79908675799086\n"
     ]
    }
   ],
   "source": [
    "from sklearn.tree import DecisionTreeClassifier\n",
    "from sklearn.metrics import accuracy_score\n",
    "from matplotlib import pyplot\n",
    "\n",
    "trainScores, testScores = list(), list()\n",
    "treeDepths = [i for i in range(1, 9)]\n",
    "\n",
    "for i in treeDepths:\n",
    "    model = DecisionTreeClassifier(max_depth=i)\n",
    "    model.fit(X_train, y_train)\n",
    "    \n",
    "    trainPrediction = model.predict(X_train)\n",
    "    trainAccuracy = accuracy_score(y_train, trainPrediction) * 100\n",
    "    trainScores.append(trainAccuracy)\n",
    "    \n",
    "    testPrediction = model.predict(X_test)\n",
    "    testAccuracy = accuracy_score(y_test, testPrediction) * 100\n",
    "    testScores.append(testAccuracy)\n",
    "    \n",
    "    print('>%d, train: %.3f, test: %.3f' % (i, trainAccuracy, testAccuracy))\n",
    "\n",
    "pyplot.plot(treeDepths, trainScores, '-o', label='Train')\n",
    "pyplot.plot(treeDepths, testScores, '-o', label='Test')\n",
    "pyplot.legend()\n",
    "pyplot.show()\n",
    "\n",
    "print(\"The point of NO overfitting is 8\")\n",
    "print(\"Score:\")\n",
    "print(model.score(X_test, y_test) * 100)"
   ]
  },
  {
   "cell_type": "markdown",
   "id": "f8a12225",
   "metadata": {
    "id": "f8a12225"
   },
   "source": [
    "## Support Vector Machines ~76%"
   ]
  },
  {
   "cell_type": "code",
   "execution_count": 24,
   "id": "682f78e1",
   "metadata": {
    "colab": {
     "base_uri": "https://localhost:8080/"
    },
    "executionInfo": {
     "elapsed": 123044,
     "status": "ok",
     "timestamp": 1668682081360,
     "user": {
      "displayName": "Nicole König",
      "userId": "04945880460600677398"
     },
     "user_tz": -60
    },
    "id": "682f78e1",
    "outputId": "48d8b9ec-a8ea-4b50-e6aa-fb218e7dca67"
   },
   "outputs": [
    {
     "name": "stdout",
     "output_type": "stream",
     "text": [
      "Score:\n",
      "76.1187214611872\n"
     ]
    }
   ],
   "source": [
    "from sklearn import svm\n",
    "\n",
    "svc = svm.SVC(gamma=\"scale\", random_state=10)\n",
    "svc.fit(X_train, y_train)\n",
    "\n",
    "print(\"Score:\")\n",
    "print(svc.score(X_test, y_test) * 100)"
   ]
  },
  {
   "cell_type": "markdown",
   "id": "bca8d7f0",
   "metadata": {
    "id": "bca8d7f0"
   },
   "source": [
    "## NN aka Multi-Layer Perceptrons ~76%"
   ]
  },
  {
   "cell_type": "code",
   "execution_count": 9,
   "id": "c77faa65",
   "metadata": {
    "colab": {
     "base_uri": "https://localhost:8080/",
     "height": 1000
    },
    "executionInfo": {
     "elapsed": 291218,
     "status": "ok",
     "timestamp": 1668682372536,
     "user": {
      "displayName": "Nicole König",
      "userId": "04945880460600677398"
     },
     "user_tz": -60
    },
    "id": "c77faa65",
    "outputId": "9fd677db-354b-4075-8cc0-bdaf6c505c0a"
   },
   "outputs": [
    {
     "name": "stdout",
     "output_type": "stream",
     "text": [
      ">1, train: 73.673, test: 73.927\n",
      ">2, train: 75.096, test: 75.105\n",
      ">3, train: 75.205, test: 75.297\n",
      ">4, train: 75.390, test: 75.452\n",
      ">5, train: 75.603, test: 75.580\n",
      ">6, train: 75.838, test: 75.836\n",
      ">7, train: 76.062, test: 76.000\n",
      ">8, train: 76.251, test: 76.183\n",
      ">9, train: 76.096, test: 76.228\n",
      ">10, train: 76.489, test: 76.402\n",
      ">11, train: 76.530, test: 76.292\n",
      ">12, train: 76.575, test: 76.447\n",
      ">13, train: 76.575, test: 76.484\n",
      ">14, train: 76.336, test: 76.311\n",
      ">15, train: 76.537, test: 76.447\n",
      ">16, train: 76.676, test: 76.429\n",
      ">17, train: 76.642, test: 76.438\n",
      ">18, train: 76.646, test: 76.484\n",
      ">19, train: 76.690, test: 76.420\n",
      ">20, train: 76.728, test: 76.393\n",
      ">21, train: 76.356, test: 76.210\n",
      ">22, train: 76.669, test: 76.338\n",
      ">23, train: 76.432, test: 76.283\n",
      ">24, train: 76.722, test: 76.365\n",
      ">25, train: 76.731, test: 76.347\n",
      ">26, train: 76.660, test: 76.329\n",
      ">27, train: 76.726, test: 76.228\n",
      ">28, train: 76.856, test: 76.347\n",
      ">29, train: 76.829, test: 76.256\n",
      ">30, train: 76.802, test: 76.329\n",
      ">31, train: 76.865, test: 76.438\n",
      ">32, train: 76.772, test: 76.420\n",
      ">33, train: 76.665, test: 76.183\n",
      ">34, train: 76.788, test: 76.256\n",
      ">35, train: 76.756, test: 76.292\n",
      ">36, train: 76.822, test: 76.347\n",
      ">37, train: 76.854, test: 76.347\n",
      ">38, train: 76.770, test: 76.183\n",
      ">39, train: 76.895, test: 76.557\n",
      ">40, train: 76.968, test: 76.374\n",
      ">41, train: 76.806, test: 76.329\n",
      ">42, train: 76.738, test: 76.000\n",
      ">43, train: 76.719, test: 76.046\n",
      ">44, train: 76.888, test: 76.429\n",
      ">45, train: 76.907, test: 76.575\n",
      ">46, train: 76.763, test: 76.219\n",
      ">47, train: 76.838, test: 76.183\n",
      ">48, train: 76.870, test: 76.301\n",
      ">49, train: 76.763, test: 76.237\n",
      ">50, train: 76.936, test: 76.247\n"
     ]
    },
    {
     "data": {
      "image/png": "[encoded data removed]",
      "text/plain": [
       "<Figure size 640x480 with 1 Axes>"
      ]
     },
     "metadata": {},
     "output_type": "display_data"
    },
    {
     "name": "stdout",
     "output_type": "stream",
     "text": [
      "The point of NO overfitting is XX\n",
      "Score:\n",
      "76.24657534246575\n"
     ]
    }
   ],
   "source": [
    "from sklearn.neural_network import MLPClassifier\n",
    "from sklearn.metrics import accuracy_score\n",
    "from matplotlib import pyplot\n",
    "\n",
    "trainScores, testScores = list(), list()\n",
    "iterations = [i for i in range(1, 51)] #1500? takes a long time\n",
    "\n",
    "for i in iterations:\n",
    "    model = MLPClassifier(max_iter=i, random_state=10)\n",
    "    model.fit(X_train, y_train)\n",
    "    \n",
    "    trainPrediction = model.predict(X_train)\n",
    "    trainAccuracy = accuracy_score(y_train, trainPrediction) * 100\n",
    "    trainScores.append(trainAccuracy)\n",
    "    \n",
    "    testPrediction = model.predict(X_test)\n",
    "    testAccuracy = accuracy_score(y_test, testPrediction) * 100\n",
    "    testScores.append(testAccuracy)\n",
    "    \n",
    "    print('>%d, train: %.3f, test: %.3f' % (i, trainAccuracy, testAccuracy))\n",
    "\n",
    "pyplot.plot(iterations, trainScores, '-o', label='Train')\n",
    "pyplot.plot(iterations, testScores, '-o', label='Test')\n",
    "pyplot.legend()\n",
    "pyplot.show()\n",
    "\n",
    "print(\"The point of NO overfitting is XX\")\n",
    "print(\"Score:\")\n",
    "print(model.score(X_test, y_test) * 100)"
   ]
  },
  {
   "cell_type": "code",
   "execution_count": 26,
   "id": "c56c6c43",
   "metadata": {
    "colab": {
     "base_uri": "https://localhost:8080/"
    },
    "executionInfo": {
     "elapsed": 56070,
     "status": "ok",
     "timestamp": 1668682428598,
     "user": {
      "displayName": "Nicole König",
      "userId": "04945880460600677398"
     },
     "user_tz": -60
    },
    "id": "c56c6c43",
    "outputId": "6618f968-f32b-4cba-db8b-b284d39855f6"
   },
   "outputs": [
    {
     "name": "stdout",
     "output_type": "stream",
     "text": [
      "Accuracy on training set:0.77\n",
      "Accuracy on test set:0.76\n"
     ]
    }
   ],
   "source": [
    "from sklearn.neural_network import MLPClassifier\n",
    "\n",
    "mlp = MLPClassifier(max_iter=1000, random_state=10)\n",
    "mlp.fit(X_train, y_train)\n",
    "\n",
    "print(\"Accuracy on training set:{:.2f}\".format(mlp.score(X_train, y_train)))\n",
    "print(\"Accuracy on test set:{:.2f}\".format(mlp.score(X_test, y_test)))\n"
   ]
  },
  {
   "cell_type": "markdown",
   "id": "39cae488",
   "metadata": {
    "id": "39cae488"
   },
   "source": [
    "## ROC - Receiver Operating Characteristic"
   ]
  },
  {
   "cell_type": "markdown",
   "id": "34da0e04",
   "metadata": {
    "id": "34da0e04"
   },
   "source": [
    "To evaluate classifier output quality.\n",
    "ROC curves typically feature true positive rate on the Y axis, and false positive rate on the X axis. This means that the top left corner of the plot is the “ideal” point - a false positive rate of zero, and a true positive rate of one."
   ]
  },
  {
   "cell_type": "code",
   "execution_count": 27,
   "id": "bedf6be8",
   "metadata": {
    "colab": {
     "base_uri": "https://localhost:8080/"
    },
    "executionInfo": {
     "elapsed": 48424,
     "status": "ok",
     "timestamp": 1668682477006,
     "user": {
      "displayName": "Nicole König",
      "userId": "04945880460600677398"
     },
     "user_tz": -60
    },
    "id": "bedf6be8",
    "outputId": "38afe755-3bbb-49f9-f4bd-4ed1539ca3a4"
   },
   "outputs": [
    {
     "name": "stdout",
     "output_type": "stream",
     "text": [
      "Accuracy on training set:0.77\n",
      "Accuracy on test set:0.76\n"
     ]
    }
   ],
   "source": [
    "from sklearn.neural_network import MLPClassifier\n",
    "\n",
    "mlp = MLPClassifier(max_iter=1000, random_state=10)\n",
    "mlp.fit(X_train, y_train)\n",
    "\n",
    "print(\"Accuracy on training set:{:.2f}\".format(mlp.score(X_train, y_train)))\n",
    "print(\"Accuracy on test set:{:.2f}\".format(mlp.score(X_test, y_test)))"
   ]
  },
  {
   "cell_type": "code",
   "execution_count": 28,
   "id": "682f17d8",
   "metadata": {
    "executionInfo": {
     "elapsed": 38,
     "status": "ok",
     "timestamp": 1668682477007,
     "user": {
      "displayName": "Nicole König",
      "userId": "04945880460600677398"
     },
     "user_tz": -60
    },
    "id": "682f17d8"
   },
   "outputs": [],
   "source": [
    "from sklearn.metrics import roc_curve\n",
    "from sklearn.metrics import roc_auc_score\n",
    "y_pred_proba = model.predict_proba(X_test)\n",
    "y_pred_proba[5:10]\n",
    "y_pred_proba = y_pred_proba[:,1]\n"
   ]
  },
  {
   "cell_type": "code",
   "execution_count": 29,
   "id": "538398ac",
   "metadata": {
    "colab": {
     "base_uri": "https://localhost:8080/",
     "height": 279
    },
    "executionInfo": {
     "elapsed": 37,
     "status": "ok",
     "timestamp": 1668682477008,
     "user": {
      "displayName": "Nicole König",
      "userId": "04945880460600677398"
     },
     "user_tz": -60
    },
    "id": "538398ac",
    "outputId": "c1c9b91e-f83d-4906-fcf1-7caf3c42ecd9"
   },
   "outputs": [
    {
     "data": {
      "image/png": "[encoded data removed]",
      "text/plain": [
       "<Figure size 432x288 with 1 Axes>"
      ]
     },
     "metadata": {
      "needs_background": "light"
     },
     "output_type": "display_data"
    }
   ],
   "source": [
    "import matplotlib.pyplot as plt\n",
    "plt.plot([0,1], [0,1], linestyle ='--')\n",
    "plt.xlabel('fpr')\n",
    "plt.ylabel('tpr')\n",
    "plt.show()"
   ]
  },
  {
   "cell_type": "code",
   "execution_count": 30,
   "id": "8eadf965",
   "metadata": {
    "colab": {
     "base_uri": "https://localhost:8080/",
     "height": 282
    },
    "executionInfo": {
     "elapsed": 24,
     "status": "ok",
     "timestamp": 1668682477009,
     "user": {
      "displayName": "Nicole König",
      "userId": "04945880460600677398"
     },
     "user_tz": -60
    },
    "id": "8eadf965",
    "outputId": "da31e49d-0e76-44b4-c4d6-691faca1f081"
   },
   "outputs": [
    {
     "data": {
      "text/plain": [
       "[<matplotlib.lines.Line2D at 0x7fb6a6206b50>]"
      ]
     },
     "execution_count": 30,
     "metadata": {},
     "output_type": "execute_result"
    },
    {
     "data": {
      "image/png": "[encoded data removed]",
      "text/plain": [
       "<Figure size 432x288 with 1 Axes>"
      ]
     },
     "metadata": {
      "needs_background": "light"
     },
     "output_type": "display_data"
    }
   ],
   "source": [
    "fpr, tpr, tresholds = roc_curve(y_test, y_pred_proba)\n",
    "plt.plot(fpr, tpr, marker ='.')"
   ]
  },
  {
   "cell_type": "markdown",
   "id": "25651b79",
   "metadata": {
    "id": "25651b79"
   },
   "source": [
    "Best Case: AUC = 1.0 (everything correctly classified). AUC = 0.5 - 50% accurate (random guess)"
   ]
  },
  {
   "cell_type": "code",
   "execution_count": 31,
   "id": "06d14e11",
   "metadata": {
    "colab": {
     "base_uri": "https://localhost:8080/"
    },
    "executionInfo": {
     "elapsed": 19,
     "status": "ok",
     "timestamp": 1668682477009,
     "user": {
      "displayName": "Nicole König",
      "userId": "04945880460600677398"
     },
     "user_tz": -60
    },
    "id": "06d14e11",
    "outputId": "948ce653-1941-415a-9d8c-972804e140da"
   },
   "outputs": [
    {
     "name": "stdout",
     "output_type": "stream",
     "text": [
      "AUC: 0.842\n"
     ]
    }
   ],
   "source": [
    "auc = roc_auc_score(y_test, y_pred_proba)\n",
    "print('AUC: %.3f' % auc)"
   ]
  },
  {
   "cell_type": "markdown",
   "id": "8565d600",
   "metadata": {
    "executionInfo": {
     "elapsed": 20,
     "status": "aborted",
     "timestamp": 1668681894590,
     "user": {
      "displayName": "Nicole König",
      "userId": "04945880460600677398"
     },
     "user_tz": -60
    },
    "id": "3193c5f5"
   },
   "source": [
    "# EXPORT MODEL"
   ]
  },
  {
   "cell_type": "markdown",
   "id": "ef8c2742",
   "metadata": {},
   "source": [
    "Exports a newly created file in the same directory as this file"
   ]
  },
  {
   "cell_type": "code",
   "execution_count": 11,
   "id": "0ec6093f",
   "metadata": {},
   "outputs": [],
   "source": [
    "import pickle\n",
    "\n",
    "writeBinaryMode = 'wb'\n",
    "fileName = 'heartPredictionModel.pkl'\n",
    "pickle.dump(model, open(fileName, writeBinaryMode))"
   ]
  },
  {
   "cell_type": "code",
   "execution_count": null,
   "id": "e537e989",
   "metadata": {},
   "outputs": [],
   "source": []
  }
 ],
 "metadata": {
  "colab": {
   "provenance": []
  },
  "kernelspec": {
   "display_name": "Python 3 (ipykernel)",
   "language": "python",
   "name": "python3"
  },
  "language_info": {
   "codemirror_mode": {
    "name": "ipython",
    "version": 3
   },
   "file_extension": ".py",
   "mimetype": "text/x-python",
   "name": "python",
   "nbconvert_exporter": "python",
   "pygments_lexer": "ipython3",
   "version": "3.9.13"
  }
 },
 "nbformat": 4,
 "nbformat_minor": 5
}
